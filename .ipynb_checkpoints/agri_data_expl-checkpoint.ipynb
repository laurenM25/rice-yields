{
 "cells": [
  {
   "cell_type": "code",
   "execution_count": 775,
   "id": "71b9eff3-85ff-4606-b8a7-fb5df3913b45",
   "metadata": {},
   "outputs": [],
   "source": [
    "import pandas as pd\n",
    "import numpy as np\n",
    "import matplotlib.pyplot as plt\n",
    "import seaborn as sns #slightly different functionality that matplotlib"
   ]
  },
  {
   "cell_type": "markdown",
   "id": "831ef165-bbae-45ee-8924-c2ddfcf87acb",
   "metadata": {},
   "source": [
    "This project investigates rice production trends in selected Asian countries from 1980 to 2023. I will analyze changes in yield and area harvested over time, and will experiment with visualization techniques to compare historical and recent values.\n",
    "\n",
    "Working with panel data (cross-sectional and time series data)"
   ]
  },
  {
   "cell_type": "code",
   "execution_count": 778,
   "id": "ae8e9101-554b-4c9f-9c4c-850242fed963",
   "metadata": {},
   "outputs": [],
   "source": [
    "# load in data\n",
    "data_df = pd.read_csv(\"FAOSTAT-production-data-1980-2023.csv\")"
   ]
  },
  {
   "cell_type": "code",
   "execution_count": 780,
   "id": "11cef2fa-21b2-4d4f-b6e8-bd1461fd29b1",
   "metadata": {},
   "outputs": [
    {
     "data": {
      "text/html": [
       "<div>\n",
       "<style scoped>\n",
       "    .dataframe tbody tr th:only-of-type {\n",
       "        vertical-align: middle;\n",
       "    }\n",
       "\n",
       "    .dataframe tbody tr th {\n",
       "        vertical-align: top;\n",
       "    }\n",
       "\n",
       "    .dataframe thead th {\n",
       "        text-align: right;\n",
       "    }\n",
       "</style>\n",
       "<table border=\"1\" class=\"dataframe\">\n",
       "  <thead>\n",
       "    <tr style=\"text-align: right;\">\n",
       "      <th></th>\n",
       "      <th>Domain Code</th>\n",
       "      <th>Domain</th>\n",
       "      <th>Area Code (M49)</th>\n",
       "      <th>Area</th>\n",
       "      <th>Element Code</th>\n",
       "      <th>Element</th>\n",
       "      <th>Item Code (CPC)</th>\n",
       "      <th>Item</th>\n",
       "      <th>Year Code</th>\n",
       "      <th>Year</th>\n",
       "      <th>Unit</th>\n",
       "      <th>Value</th>\n",
       "      <th>Flag</th>\n",
       "      <th>Flag Description</th>\n",
       "      <th>Note</th>\n",
       "    </tr>\n",
       "  </thead>\n",
       "  <tbody>\n",
       "    <tr>\n",
       "      <th>0</th>\n",
       "      <td>QCL</td>\n",
       "      <td>Crops and livestock products</td>\n",
       "      <td>159</td>\n",
       "      <td>China</td>\n",
       "      <td>5312</td>\n",
       "      <td>Area harvested</td>\n",
       "      <td>113</td>\n",
       "      <td>Rice</td>\n",
       "      <td>1980</td>\n",
       "      <td>1980</td>\n",
       "      <td>ha</td>\n",
       "      <td>34482478.0</td>\n",
       "      <td>A</td>\n",
       "      <td>Official figure</td>\n",
       "      <td>NaN</td>\n",
       "    </tr>\n",
       "    <tr>\n",
       "      <th>1</th>\n",
       "      <td>QCL</td>\n",
       "      <td>Crops and livestock products</td>\n",
       "      <td>159</td>\n",
       "      <td>China</td>\n",
       "      <td>5412</td>\n",
       "      <td>Yield</td>\n",
       "      <td>113</td>\n",
       "      <td>Rice</td>\n",
       "      <td>1980</td>\n",
       "      <td>1980</td>\n",
       "      <td>kg/ha</td>\n",
       "      <td>4143.5</td>\n",
       "      <td>A</td>\n",
       "      <td>Official figure</td>\n",
       "      <td>NaN</td>\n",
       "    </tr>\n",
       "    <tr>\n",
       "      <th>2</th>\n",
       "      <td>QCL</td>\n",
       "      <td>Crops and livestock products</td>\n",
       "      <td>159</td>\n",
       "      <td>China</td>\n",
       "      <td>5510</td>\n",
       "      <td>Production</td>\n",
       "      <td>113</td>\n",
       "      <td>Rice</td>\n",
       "      <td>1980</td>\n",
       "      <td>1980</td>\n",
       "      <td>t</td>\n",
       "      <td>142876522.0</td>\n",
       "      <td>A</td>\n",
       "      <td>Official figure</td>\n",
       "      <td>NaN</td>\n",
       "    </tr>\n",
       "    <tr>\n",
       "      <th>3</th>\n",
       "      <td>QCL</td>\n",
       "      <td>Crops and livestock products</td>\n",
       "      <td>159</td>\n",
       "      <td>China</td>\n",
       "      <td>5312</td>\n",
       "      <td>Area harvested</td>\n",
       "      <td>113</td>\n",
       "      <td>Rice</td>\n",
       "      <td>1981</td>\n",
       "      <td>1981</td>\n",
       "      <td>ha</td>\n",
       "      <td>33928110.0</td>\n",
       "      <td>A</td>\n",
       "      <td>Official figure</td>\n",
       "      <td>NaN</td>\n",
       "    </tr>\n",
       "    <tr>\n",
       "      <th>4</th>\n",
       "      <td>QCL</td>\n",
       "      <td>Crops and livestock products</td>\n",
       "      <td>159</td>\n",
       "      <td>China</td>\n",
       "      <td>5412</td>\n",
       "      <td>Yield</td>\n",
       "      <td>113</td>\n",
       "      <td>Rice</td>\n",
       "      <td>1981</td>\n",
       "      <td>1981</td>\n",
       "      <td>kg/ha</td>\n",
       "      <td>4331.5</td>\n",
       "      <td>A</td>\n",
       "      <td>Official figure</td>\n",
       "      <td>NaN</td>\n",
       "    </tr>\n",
       "  </tbody>\n",
       "</table>\n",
       "</div>"
      ],
      "text/plain": [
       "  Domain Code                        Domain  Area Code (M49)   Area  \\\n",
       "0         QCL  Crops and livestock products              159  China   \n",
       "1         QCL  Crops and livestock products              159  China   \n",
       "2         QCL  Crops and livestock products              159  China   \n",
       "3         QCL  Crops and livestock products              159  China   \n",
       "4         QCL  Crops and livestock products              159  China   \n",
       "\n",
       "   Element Code         Element  Item Code (CPC)  Item  Year Code  Year  \\\n",
       "0          5312  Area harvested              113  Rice       1980  1980   \n",
       "1          5412           Yield              113  Rice       1980  1980   \n",
       "2          5510      Production              113  Rice       1980  1980   \n",
       "3          5312  Area harvested              113  Rice       1981  1981   \n",
       "4          5412           Yield              113  Rice       1981  1981   \n",
       "\n",
       "    Unit        Value Flag Flag Description Note  \n",
       "0     ha   34482478.0    A  Official figure  NaN  \n",
       "1  kg/ha       4143.5    A  Official figure  NaN  \n",
       "2      t  142876522.0    A  Official figure  NaN  \n",
       "3     ha   33928110.0    A  Official figure  NaN  \n",
       "4  kg/ha       4331.5    A  Official figure  NaN  "
      ]
     },
     "execution_count": 780,
     "metadata": {},
     "output_type": "execute_result"
    }
   ],
   "source": [
    "data_df.head(5)"
   ]
  },
  {
   "cell_type": "code",
   "execution_count": 785,
   "id": "58b5ffa8-fd38-4554-9a0b-dd022d993782",
   "metadata": {},
   "outputs": [],
   "source": [
    "#fix country naming\n",
    "def fix_country_naming(df):\n",
    "    df.replace({\"Viet Nam\": \"Vietnam\", \"Republic of Korea\": \"South Korea\"},inplace=True)\n",
    "\n",
    "fix_country_naming(data_df)"
   ]
  },
  {
   "cell_type": "markdown",
   "id": "b8a6d1e8-a2bf-4596-b594-d91f8ef62117",
   "metadata": {},
   "source": [
    "## Exploratory data analysis"
   ]
  },
  {
   "cell_type": "code",
   "execution_count": 788,
   "id": "df97258e-8894-4404-a28a-b59dcfa29060",
   "metadata": {},
   "outputs": [
    {
     "name": "stdout",
     "output_type": "stream",
     "text": [
      "<class 'pandas.core.frame.DataFrame'>\n",
      "RangeIndex: 924 entries, 0 to 923\n",
      "Data columns (total 15 columns):\n",
      " #   Column            Non-Null Count  Dtype  \n",
      "---  ------            --------------  -----  \n",
      " 0   Domain Code       924 non-null    object \n",
      " 1   Domain            924 non-null    object \n",
      " 2   Area Code (M49)   924 non-null    int64  \n",
      " 3   Area              924 non-null    object \n",
      " 4   Element Code      924 non-null    int64  \n",
      " 5   Element           924 non-null    object \n",
      " 6   Item Code (CPC)   924 non-null    int64  \n",
      " 7   Item              924 non-null    object \n",
      " 8   Year Code         924 non-null    int64  \n",
      " 9   Year              924 non-null    int64  \n",
      " 10  Unit              924 non-null    object \n",
      " 11  Value             924 non-null    float64\n",
      " 12  Flag              924 non-null    object \n",
      " 13  Flag Description  924 non-null    object \n",
      " 14  Note              1 non-null      object \n",
      "dtypes: float64(1), int64(5), object(9)\n",
      "memory usage: 108.4+ KB\n"
     ]
    }
   ],
   "source": [
    "data_df.info()"
   ]
  },
  {
   "cell_type": "code",
   "execution_count": 790,
   "id": "b3227e9b-99c1-4a0b-be82-20742921a682",
   "metadata": {},
   "outputs": [
    {
     "name": "stdout",
     "output_type": "stream",
     "text": [
      "Domain Code : ['QCL']\n",
      "Domain : ['Crops and livestock products']\n",
      "Area Code (M49) : [159 356 360 104 410 764 704]\n",
      "Area : ['China' 'India' 'Indonesia' 'Myanmar' 'South Korea' 'Thailand' 'Vietnam']\n",
      "Element Code : [5312 5412 5510]\n",
      "Element : ['Area harvested' 'Yield' 'Production']\n",
      "Item Code (CPC) : [113]\n",
      "Item : ['Rice']\n",
      "Year Code : [1980 1981 1982 1983 1984 1985 1986 1987 1988 1989 1990 1991 1992 1993\n",
      " 1994 1995 1996 1997 1998 1999 2000 2001 2002 2003 2004 2005 2006 2007\n",
      " 2008 2009 2010 2011 2012 2013 2014 2015 2016 2017 2018 2019 2020 2021\n",
      " 2022 2023]\n",
      "Year : [1980 1981 1982 1983 1984 1985 1986 1987 1988 1989 1990 1991 1992 1993\n",
      " 1994 1995 1996 1997 1998 1999 2000 2001 2002 2003 2004 2005 2006 2007\n",
      " 2008 2009 2010 2011 2012 2013 2014 2015 2016 2017 2018 2019 2020 2021\n",
      " 2022 2023]\n",
      "Unit : ['ha' 'kg/ha' 't']\n",
      "Flag : ['A' 'E' 'I' 'X']\n",
      "Flag Description : ['Official figure' 'Estimated value' 'Imputed value'\n",
      " 'Figure from international organizations']\n",
      "Note : [nan 'Unofficial figure']\n"
     ]
    }
   ],
   "source": [
    "#look at values in each column\n",
    "for col in data_df.columns:\n",
    "    if (col != \"Value\"):\n",
    "        print(col, \":\", data_df[col].unique())"
   ]
  },
  {
   "cell_type": "code",
   "execution_count": 792,
   "id": "9ca48c6e-62cc-4d4d-b304-a7febec530d1",
   "metadata": {},
   "outputs": [
    {
     "data": {
      "text/plain": [
       "Flag\n",
       "A    805\n",
       "E    117\n",
       "I      1\n",
       "X      1\n",
       "Name: count, dtype: int64"
      ]
     },
     "execution_count": 792,
     "metadata": {},
     "output_type": "execute_result"
    }
   ],
   "source": [
    "#check how many imputed values, estimated, etc.\n",
    "data_df[\"Flag\"].value_counts()"
   ]
  },
  {
   "cell_type": "code",
   "execution_count": 794,
   "id": "dd206af3-3ced-43e5-ac29-4aab49bac14a",
   "metadata": {},
   "outputs": [
    {
     "name": "stdout",
     "output_type": "stream",
     "text": [
      "China: Flag\n",
      "E    83\n",
      "A    49\n",
      "Name: count, dtype: int64\n",
      "\n",
      "India: Flag\n",
      "A    132\n",
      "Name: count, dtype: int64\n",
      "\n",
      "Indonesia: Flag\n",
      "A    101\n",
      "E     31\n",
      "Name: count, dtype: int64\n",
      "\n",
      "Myanmar: Flag\n",
      "A    129\n",
      "I      1\n",
      "E      1\n",
      "X      1\n",
      "Name: count, dtype: int64\n",
      "\n",
      "South Korea: Flag\n",
      "A    132\n",
      "Name: count, dtype: int64\n",
      "\n",
      "Thailand: Flag\n",
      "A    130\n",
      "E      2\n",
      "Name: count, dtype: int64\n",
      "\n",
      "Vietnam: Flag\n",
      "A    132\n",
      "Name: count, dtype: int64\n",
      "\n"
     ]
    }
   ],
   "source": [
    "#check the proportion of estimated values for each country\n",
    "for country in data_df[\"Area\"].unique():\n",
    "    print(f\"{country}: {data_df[data_df[\"Area\"] == country][\"Flag\"].value_counts()}\")\n",
    "    print()\n"
   ]
  },
  {
   "cell_type": "code",
   "execution_count": 796,
   "id": "5e93f5f1-1130-4308-8212-f86d731b5290",
   "metadata": {},
   "outputs": [
    {
     "data": {
      "text/html": [
       "<div>\n",
       "<style scoped>\n",
       "    .dataframe tbody tr th:only-of-type {\n",
       "        vertical-align: middle;\n",
       "    }\n",
       "\n",
       "    .dataframe tbody tr th {\n",
       "        vertical-align: top;\n",
       "    }\n",
       "\n",
       "    .dataframe thead th {\n",
       "        text-align: right;\n",
       "    }\n",
       "</style>\n",
       "<table border=\"1\" class=\"dataframe\">\n",
       "  <thead>\n",
       "    <tr style=\"text-align: right;\">\n",
       "      <th></th>\n",
       "      <th>Area Code (M49)</th>\n",
       "      <th>Area</th>\n",
       "      <th>Element Code</th>\n",
       "      <th>Element</th>\n",
       "      <th>Item</th>\n",
       "      <th>Year</th>\n",
       "      <th>Unit</th>\n",
       "      <th>Value</th>\n",
       "      <th>Flag</th>\n",
       "      <th>Flag Description</th>\n",
       "    </tr>\n",
       "  </thead>\n",
       "  <tbody>\n",
       "    <tr>\n",
       "      <th>0</th>\n",
       "      <td>159</td>\n",
       "      <td>China</td>\n",
       "      <td>5312</td>\n",
       "      <td>Area harvested</td>\n",
       "      <td>Rice</td>\n",
       "      <td>1980</td>\n",
       "      <td>ha</td>\n",
       "      <td>3.448248e+07</td>\n",
       "      <td>A</td>\n",
       "      <td>Official figure</td>\n",
       "    </tr>\n",
       "    <tr>\n",
       "      <th>1</th>\n",
       "      <td>159</td>\n",
       "      <td>China</td>\n",
       "      <td>5412</td>\n",
       "      <td>Yield</td>\n",
       "      <td>Rice</td>\n",
       "      <td>1980</td>\n",
       "      <td>kg/ha</td>\n",
       "      <td>4.143500e+03</td>\n",
       "      <td>A</td>\n",
       "      <td>Official figure</td>\n",
       "    </tr>\n",
       "    <tr>\n",
       "      <th>2</th>\n",
       "      <td>159</td>\n",
       "      <td>China</td>\n",
       "      <td>5510</td>\n",
       "      <td>Production</td>\n",
       "      <td>Rice</td>\n",
       "      <td>1980</td>\n",
       "      <td>t</td>\n",
       "      <td>1.428765e+08</td>\n",
       "      <td>A</td>\n",
       "      <td>Official figure</td>\n",
       "    </tr>\n",
       "    <tr>\n",
       "      <th>3</th>\n",
       "      <td>159</td>\n",
       "      <td>China</td>\n",
       "      <td>5312</td>\n",
       "      <td>Area harvested</td>\n",
       "      <td>Rice</td>\n",
       "      <td>1981</td>\n",
       "      <td>ha</td>\n",
       "      <td>3.392811e+07</td>\n",
       "      <td>A</td>\n",
       "      <td>Official figure</td>\n",
       "    </tr>\n",
       "    <tr>\n",
       "      <th>4</th>\n",
       "      <td>159</td>\n",
       "      <td>China</td>\n",
       "      <td>5412</td>\n",
       "      <td>Yield</td>\n",
       "      <td>Rice</td>\n",
       "      <td>1981</td>\n",
       "      <td>kg/ha</td>\n",
       "      <td>4.331500e+03</td>\n",
       "      <td>A</td>\n",
       "      <td>Official figure</td>\n",
       "    </tr>\n",
       "    <tr>\n",
       "      <th>...</th>\n",
       "      <td>...</td>\n",
       "      <td>...</td>\n",
       "      <td>...</td>\n",
       "      <td>...</td>\n",
       "      <td>...</td>\n",
       "      <td>...</td>\n",
       "      <td>...</td>\n",
       "      <td>...</td>\n",
       "      <td>...</td>\n",
       "      <td>...</td>\n",
       "    </tr>\n",
       "    <tr>\n",
       "      <th>919</th>\n",
       "      <td>704</td>\n",
       "      <td>Vietnam</td>\n",
       "      <td>5412</td>\n",
       "      <td>Yield</td>\n",
       "      <td>Rice</td>\n",
       "      <td>2022</td>\n",
       "      <td>kg/ha</td>\n",
       "      <td>6.018000e+03</td>\n",
       "      <td>A</td>\n",
       "      <td>Official figure</td>\n",
       "    </tr>\n",
       "    <tr>\n",
       "      <th>920</th>\n",
       "      <td>704</td>\n",
       "      <td>Vietnam</td>\n",
       "      <td>5510</td>\n",
       "      <td>Production</td>\n",
       "      <td>Rice</td>\n",
       "      <td>2022</td>\n",
       "      <td>t</td>\n",
       "      <td>4.266080e+07</td>\n",
       "      <td>A</td>\n",
       "      <td>Official figure</td>\n",
       "    </tr>\n",
       "    <tr>\n",
       "      <th>921</th>\n",
       "      <td>704</td>\n",
       "      <td>Vietnam</td>\n",
       "      <td>5312</td>\n",
       "      <td>Area harvested</td>\n",
       "      <td>Rice</td>\n",
       "      <td>2023</td>\n",
       "      <td>ha</td>\n",
       "      <td>7.115058e+06</td>\n",
       "      <td>A</td>\n",
       "      <td>Official figure</td>\n",
       "    </tr>\n",
       "    <tr>\n",
       "      <th>922</th>\n",
       "      <td>704</td>\n",
       "      <td>Vietnam</td>\n",
       "      <td>5412</td>\n",
       "      <td>Yield</td>\n",
       "      <td>Rice</td>\n",
       "      <td>2023</td>\n",
       "      <td>kg/ha</td>\n",
       "      <td>6.113500e+03</td>\n",
       "      <td>A</td>\n",
       "      <td>Official figure</td>\n",
       "    </tr>\n",
       "    <tr>\n",
       "      <th>923</th>\n",
       "      <td>704</td>\n",
       "      <td>Vietnam</td>\n",
       "      <td>5510</td>\n",
       "      <td>Production</td>\n",
       "      <td>Rice</td>\n",
       "      <td>2023</td>\n",
       "      <td>t</td>\n",
       "      <td>4.349762e+07</td>\n",
       "      <td>A</td>\n",
       "      <td>Official figure</td>\n",
       "    </tr>\n",
       "  </tbody>\n",
       "</table>\n",
       "<p>924 rows × 10 columns</p>\n",
       "</div>"
      ],
      "text/plain": [
       "     Area Code (M49)     Area  Element Code         Element  Item  Year  \\\n",
       "0                159    China          5312  Area harvested  Rice  1980   \n",
       "1                159    China          5412           Yield  Rice  1980   \n",
       "2                159    China          5510      Production  Rice  1980   \n",
       "3                159    China          5312  Area harvested  Rice  1981   \n",
       "4                159    China          5412           Yield  Rice  1981   \n",
       "..               ...      ...           ...             ...   ...   ...   \n",
       "919              704  Vietnam          5412           Yield  Rice  2022   \n",
       "920              704  Vietnam          5510      Production  Rice  2022   \n",
       "921              704  Vietnam          5312  Area harvested  Rice  2023   \n",
       "922              704  Vietnam          5412           Yield  Rice  2023   \n",
       "923              704  Vietnam          5510      Production  Rice  2023   \n",
       "\n",
       "      Unit         Value Flag Flag Description  \n",
       "0       ha  3.448248e+07    A  Official figure  \n",
       "1    kg/ha  4.143500e+03    A  Official figure  \n",
       "2        t  1.428765e+08    A  Official figure  \n",
       "3       ha  3.392811e+07    A  Official figure  \n",
       "4    kg/ha  4.331500e+03    A  Official figure  \n",
       "..     ...           ...  ...              ...  \n",
       "919  kg/ha  6.018000e+03    A  Official figure  \n",
       "920      t  4.266080e+07    A  Official figure  \n",
       "921     ha  7.115058e+06    A  Official figure  \n",
       "922  kg/ha  6.113500e+03    A  Official figure  \n",
       "923      t  4.349762e+07    A  Official figure  \n",
       "\n",
       "[924 rows x 10 columns]"
      ]
     },
     "execution_count": 796,
     "metadata": {},
     "output_type": "execute_result"
    }
   ],
   "source": [
    "#drop columns not using\n",
    "data_df.drop(columns=[\"Domain Code\",\"Domain\",\"Item Code (CPC)\",\"Year Code\",\"Note\"])"
   ]
  },
  {
   "cell_type": "code",
   "execution_count": 798,
   "id": "c078df05-70a6-4742-a893-efc7c1080ee6",
   "metadata": {},
   "outputs": [],
   "source": [
    "#drop imputed and X flag values\n",
    "data_df = data_df[(data_df[\"Flag\"] != \"X\") & (data_df[\"Flag\"]!=\"I\")] #wrap each condition in parentheses"
   ]
  },
  {
   "cell_type": "markdown",
   "id": "e02b6ee5-53f9-46d9-a231-6857bf40b2c6",
   "metadata": {},
   "source": [
    "### Simple plots"
   ]
  },
  {
   "cell_type": "code",
   "execution_count": 801,
   "id": "4a882009-6da3-470b-9307-353e7300e5b0",
   "metadata": {},
   "outputs": [
    {
     "data": {
      "text/html": [
       "<div>\n",
       "<style scoped>\n",
       "    .dataframe tbody tr th:only-of-type {\n",
       "        vertical-align: middle;\n",
       "    }\n",
       "\n",
       "    .dataframe tbody tr th {\n",
       "        vertical-align: top;\n",
       "    }\n",
       "\n",
       "    .dataframe thead th {\n",
       "        text-align: right;\n",
       "    }\n",
       "</style>\n",
       "<table border=\"1\" class=\"dataframe\">\n",
       "  <thead>\n",
       "    <tr style=\"text-align: right;\">\n",
       "      <th></th>\n",
       "      <th>Area</th>\n",
       "      <th>mean</th>\n",
       "      <th>min</th>\n",
       "      <th>max</th>\n",
       "    </tr>\n",
       "  </thead>\n",
       "  <tbody>\n",
       "    <tr>\n",
       "      <th>0</th>\n",
       "      <td>China</td>\n",
       "      <td>6143.627273</td>\n",
       "      <td>4143.5</td>\n",
       "      <td>7132.5</td>\n",
       "    </tr>\n",
       "    <tr>\n",
       "      <th>1</th>\n",
       "      <td>India</td>\n",
       "      <td>3057.236364</td>\n",
       "      <td>1849.7</td>\n",
       "      <td>4322.3</td>\n",
       "    </tr>\n",
       "    <tr>\n",
       "      <th>2</th>\n",
       "      <td>Indonesia</td>\n",
       "      <td>4551.629545</td>\n",
       "      <td>3292.8</td>\n",
       "      <td>5358.8</td>\n",
       "    </tr>\n",
       "    <tr>\n",
       "      <th>3</th>\n",
       "      <td>Myanmar</td>\n",
       "      <td>3455.825000</td>\n",
       "      <td>2773.9</td>\n",
       "      <td>4066.4</td>\n",
       "    </tr>\n",
       "    <tr>\n",
       "      <th>4</th>\n",
       "      <td>South Korea</td>\n",
       "      <td>6496.268182</td>\n",
       "      <td>4307.6</td>\n",
       "      <td>7222.8</td>\n",
       "    </tr>\n",
       "    <tr>\n",
       "      <th>5</th>\n",
       "      <td>Thailand</td>\n",
       "      <td>2599.759091</td>\n",
       "      <td>1887.8</td>\n",
       "      <td>3186.7</td>\n",
       "    </tr>\n",
       "    <tr>\n",
       "      <th>6</th>\n",
       "      <td>Vietnam</td>\n",
       "      <td>4342.734091</td>\n",
       "      <td>2079.8</td>\n",
       "      <td>6113.5</td>\n",
       "    </tr>\n",
       "  </tbody>\n",
       "</table>\n",
       "</div>"
      ],
      "text/plain": [
       "          Area         mean     min     max\n",
       "0        China  6143.627273  4143.5  7132.5\n",
       "1        India  3057.236364  1849.7  4322.3\n",
       "2    Indonesia  4551.629545  3292.8  5358.8\n",
       "3      Myanmar  3455.825000  2773.9  4066.4\n",
       "4  South Korea  6496.268182  4307.6  7222.8\n",
       "5     Thailand  2599.759091  1887.8  3186.7\n",
       "6      Vietnam  4342.734091  2079.8  6113.5"
      ]
     },
     "execution_count": 801,
     "metadata": {},
     "output_type": "execute_result"
    }
   ],
   "source": [
    "yield_df = data_df[data_df[\"Element\"] == \"Yield\"]\n",
    "\n",
    "#get mean yield for each country over 5 year blocks\n",
    "yield_df.groupby(\"Area\")['Value'].agg(['mean','min','max']).reset_index()"
   ]
  },
  {
   "cell_type": "code",
   "execution_count": 803,
   "id": "d458f268-9220-4f8b-84e7-f88e8753069f",
   "metadata": {},
   "outputs": [
    {
     "data": {
      "text/plain": [
       "Text(0, 0.5, 'Yield (kg/ha)')"
      ]
     },
     "execution_count": 803,
     "metadata": {},
     "output_type": "execute_result"
    },
    {
     "data": {
      "image/png": "[encoded data removed]",
      "text/plain": [
       "<Figure size 1000x600 with 1 Axes>"
      ]
     },
     "metadata": {},
     "output_type": "display_data"
    }
   ],
   "source": [
    "#graph yield over time by country\n",
    "units = yield_df[\"Unit\"].unique()[0]\n",
    "plt.figure(figsize=(10,6))\n",
    "sns.lineplot(data=yield_df,x='Year',y='Value',hue='Area') #filters by Area\n",
    "plt.title('Rice Yield Trends Over Time')\n",
    "plt.ylabel(f\"Yield ({units})\")"
   ]
  },
  {
   "cell_type": "code",
   "execution_count": 805,
   "id": "3f1dc464-469d-4454-8b75-d09b9d317d06",
   "metadata": {},
   "outputs": [],
   "source": [
    "#plt.bar(data_df[\"Area\"],data_df[\"Value\"])\n",
    "#plt.xlabel('Country')\n",
    "#plt.ylabel(\n",
    "#plt.xticks(rotation=30)"
   ]
  },
  {
   "cell_type": "code",
   "execution_count": 807,
   "id": "b65b00d4-e6d1-4030-9617-75ca234bb6e9",
   "metadata": {},
   "outputs": [
    {
     "data": {
      "text/plain": [
       "Text(0, 0.5, 'Area (ha)')"
      ]
     },
     "execution_count": 807,
     "metadata": {},
     "output_type": "execute_result"
    },
    {
     "data": {
      "image/png": "[encoded data removed]",
      "text/plain": [
       "<Figure size 1000x600 with 1 Axes>"
      ]
     },
     "metadata": {},
     "output_type": "display_data"
    }
   ],
   "source": [
    "#graph area harvested over time by country\n",
    "area_harvested_df = data_df[data_df[\"Element\"] == \"Area harvested\"]\n",
    "\n",
    "units = area_harvested_df[\"Unit\"].unique()[0]\n",
    "plt.figure(figsize=(10,6))\n",
    "sns.lineplot(data=area_harvested_df,x='Year',y='Value',hue='Area') #filters by Area\n",
    "plt.title('Change in Area Harvested for Rice Over Time')\n",
    "plt.ylabel(f\"Area ({units})\")"
   ]
  },
  {
   "cell_type": "markdown",
   "id": "21f4c89f-2539-4888-9a1d-1c8fb51b55b5",
   "metadata": {},
   "source": [
    "Relatively stable. It seems that the countries had to boost productivity then, to increase yields while still operating on a similar amount of land. But we need to better track the units to see how big of a change this really is."
   ]
  },
  {
   "cell_type": "code",
   "execution_count": 810,
   "id": "ee05ad42-bc9f-4ed3-80e9-88f639bd6e4e",
   "metadata": {},
   "outputs": [
    {
     "name": "stderr",
     "output_type": "stream",
     "text": [
      "/var/folders/6k/pn7_fvfd4t9fhmt03ygvbwz80000gn/T/ipykernel_96383/3190118984.py:4: DeprecationWarning:\n",
      "\n",
      "DataFrameGroupBy.apply operated on the grouping columns. This behavior is deprecated, and in a future version of pandas the grouping columns will be excluded from the operation. Either pass `include_groups=False` to exclude the groupings or explicitly select the grouping columns after groupby to silence this warning.\n",
      "\n",
      "/var/folders/6k/pn7_fvfd4t9fhmt03ygvbwz80000gn/T/ipykernel_96383/3190118984.py:5: DeprecationWarning:\n",
      "\n",
      "DataFrameGroupBy.apply operated on the grouping columns. This behavior is deprecated, and in a future version of pandas the grouping columns will be excluded from the operation. Either pass `include_groups=False` to exclude the groupings or explicitly select the grouping columns after groupby to silence this warning.\n",
      "\n"
     ]
    },
    {
     "data": {
      "text/html": [
       "<div>\n",
       "<style scoped>\n",
       "    .dataframe tbody tr th:only-of-type {\n",
       "        vertical-align: middle;\n",
       "    }\n",
       "\n",
       "    .dataframe tbody tr th {\n",
       "        vertical-align: top;\n",
       "    }\n",
       "\n",
       "    .dataframe thead th {\n",
       "        text-align: right;\n",
       "    }\n",
       "</style>\n",
       "<table border=\"1\" class=\"dataframe\">\n",
       "  <thead>\n",
       "    <tr style=\"text-align: right;\">\n",
       "      <th></th>\n",
       "      <th>Area</th>\n",
       "      <th>min</th>\n",
       "      <th>max</th>\n",
       "      <th>range</th>\n",
       "      <th>2023 value</th>\n",
       "      <th>1980 value</th>\n",
       "      <th>2023 vs. 1980</th>\n",
       "      <th>Unit</th>\n",
       "    </tr>\n",
       "  </thead>\n",
       "  <tbody>\n",
       "    <tr>\n",
       "      <th>0</th>\n",
       "      <td>China</td>\n",
       "      <td>26779954.0</td>\n",
       "      <td>34482478.0</td>\n",
       "      <td>7702524.0</td>\n",
       "      <td>29171100.0</td>\n",
       "      <td>34482478.0</td>\n",
       "      <td>-5311378.0</td>\n",
       "      <td>ha</td>\n",
       "    </tr>\n",
       "    <tr>\n",
       "      <th>1</th>\n",
       "      <td>India</td>\n",
       "      <td>38262000.0</td>\n",
       "      <td>47832000.0</td>\n",
       "      <td>9570000.0</td>\n",
       "      <td>47828000.0</td>\n",
       "      <td>40151504.0</td>\n",
       "      <td>7676496.0</td>\n",
       "      <td>ha</td>\n",
       "    </tr>\n",
       "    <tr>\n",
       "      <th>2</th>\n",
       "      <td>Indonesia</td>\n",
       "      <td>8988455.0</td>\n",
       "      <td>11963204.0</td>\n",
       "      <td>2974749.0</td>\n",
       "      <td>10213705.0</td>\n",
       "      <td>9005065.0</td>\n",
       "      <td>1208640.0</td>\n",
       "      <td>ha</td>\n",
       "    </tr>\n",
       "    <tr>\n",
       "      <th>3</th>\n",
       "      <td>Myanmar</td>\n",
       "      <td>4482800.0</td>\n",
       "      <td>8078000.0</td>\n",
       "      <td>3595200.0</td>\n",
       "      <td>7090300.0</td>\n",
       "      <td>4800900.0</td>\n",
       "      <td>2289400.0</td>\n",
       "      <td>ha</td>\n",
       "    </tr>\n",
       "    <tr>\n",
       "      <th>4</th>\n",
       "      <td>South Korea</td>\n",
       "      <td>708012.0</td>\n",
       "      <td>1262324.0</td>\n",
       "      <td>554312.0</td>\n",
       "      <td>708012.0</td>\n",
       "      <td>1233038.0</td>\n",
       "      <td>-525026.0</td>\n",
       "      <td>ha</td>\n",
       "    </tr>\n",
       "    <tr>\n",
       "      <th>5</th>\n",
       "      <td>Thailand</td>\n",
       "      <td>8791885.0</td>\n",
       "      <td>11956781.0</td>\n",
       "      <td>3164896.0</td>\n",
       "      <td>11189393.0</td>\n",
       "      <td>9200080.0</td>\n",
       "      <td>1989313.0</td>\n",
       "      <td>ha</td>\n",
       "    </tr>\n",
       "    <tr>\n",
       "      <th>6</th>\n",
       "      <td>Vietnam</td>\n",
       "      <td>5600200.0</td>\n",
       "      <td>7902813.0</td>\n",
       "      <td>2302613.0</td>\n",
       "      <td>7115058.0</td>\n",
       "      <td>5600200.0</td>\n",
       "      <td>1514858.0</td>\n",
       "      <td>ha</td>\n",
       "    </tr>\n",
       "  </tbody>\n",
       "</table>\n",
       "</div>"
      ],
      "text/plain": [
       "          Area         min         max      range  2023 value  1980 value  \\\n",
       "0        China  26779954.0  34482478.0  7702524.0  29171100.0  34482478.0   \n",
       "1        India  38262000.0  47832000.0  9570000.0  47828000.0  40151504.0   \n",
       "2    Indonesia   8988455.0  11963204.0  2974749.0  10213705.0   9005065.0   \n",
       "3      Myanmar   4482800.0   8078000.0  3595200.0   7090300.0   4800900.0   \n",
       "4  South Korea    708012.0   1262324.0   554312.0    708012.0   1233038.0   \n",
       "5     Thailand   8791885.0  11956781.0  3164896.0  11189393.0   9200080.0   \n",
       "6      Vietnam   5600200.0   7902813.0  2302613.0   7115058.0   5600200.0   \n",
       "\n",
       "   2023 vs. 1980 Unit  \n",
       "0     -5311378.0   ha  \n",
       "1      7676496.0   ha  \n",
       "2      1208640.0   ha  \n",
       "3      2289400.0   ha  \n",
       "4      -525026.0   ha  \n",
       "5      1989313.0   ha  \n",
       "6      1514858.0   ha  "
      ]
     },
     "execution_count": 810,
     "metadata": {},
     "output_type": "execute_result"
    }
   ],
   "source": [
    "area_summary = area_harvested_df.groupby(\"Area\")['Value'].agg([\"min\",\"max\"]).reset_index()\n",
    "area_summary[\"range\"] = area_summary[\"max\"] - area_summary[\"min\"]\n",
    "\n",
    "most_recent_vals = area_harvested_df.groupby(\"Area\").apply(lambda x: x.loc[x['Year'].idxmax(), 'Value'])\n",
    "oldest_vals = area_harvested_df.groupby(\"Area\").apply(lambda x: x.loc[x['Year'].idxmin(), 'Value'])\n",
    "area_summary[\"2023 value\"] =  most_recent_vals.tolist()\n",
    "area_summary[\"1980 value\"] = oldest_vals.tolist()\n",
    "area_summary[\"2023 vs. 1980\"] = area_summary[\"2023 value\"] - area_summary[\"1980 value\"] \n",
    "area_summary[\"Unit\"] = units\n",
    "area_summary"
   ]
  },
  {
   "cell_type": "code",
   "execution_count": 812,
   "id": "732523a8-1602-418f-957b-6ce211be14b8",
   "metadata": {},
   "outputs": [],
   "source": [
    "#evalute area harvested proportional to country size --> Source: Our World in Data\n",
    "land_area_df = pd.read_csv(\"https://ourworldindata.org/grapher/land-area-hectares.csv?v=1&csvType=filtered&useColumnShortNames=true&country=European+Union~CHN~IND~IDN~MMR~KOR~THA~VNM\", storage_options = {'User-Agent': 'Our World In Data data fetch/1.0'})"
   ]
  },
  {
   "cell_type": "code",
   "execution_count": 814,
   "id": "23058f5a-a840-4763-bb7c-c1919af9b948",
   "metadata": {},
   "outputs": [],
   "source": [
    "land_area_df.rename(columns={\"land_area__00006601__area__005110__hectares\": \"land_area\"},inplace = True)"
   ]
  },
  {
   "cell_type": "code",
   "execution_count": 816,
   "id": "66b672fa-3b7a-4e90-b8f7-7ccd51d67ae5",
   "metadata": {},
   "outputs": [
    {
     "data": {
      "text/html": [
       "<div>\n",
       "<style scoped>\n",
       "    .dataframe tbody tr th:only-of-type {\n",
       "        vertical-align: middle;\n",
       "    }\n",
       "\n",
       "    .dataframe tbody tr th {\n",
       "        vertical-align: top;\n",
       "    }\n",
       "\n",
       "    .dataframe thead th {\n",
       "        text-align: right;\n",
       "    }\n",
       "</style>\n",
       "<table border=\"1\" class=\"dataframe\">\n",
       "  <thead>\n",
       "    <tr style=\"text-align: right;\">\n",
       "      <th></th>\n",
       "      <th>Entity</th>\n",
       "      <th>Code</th>\n",
       "      <th>Year</th>\n",
       "      <th>land_area</th>\n",
       "      <th>time</th>\n",
       "      <th>Unit</th>\n",
       "    </tr>\n",
       "  </thead>\n",
       "  <tbody>\n",
       "    <tr>\n",
       "      <th>0</th>\n",
       "      <td>China</td>\n",
       "      <td>CHN</td>\n",
       "      <td>2022</td>\n",
       "      <td>938821000</td>\n",
       "      <td>2022</td>\n",
       "      <td>ha</td>\n",
       "    </tr>\n",
       "    <tr>\n",
       "      <th>1</th>\n",
       "      <td>India</td>\n",
       "      <td>IND</td>\n",
       "      <td>2022</td>\n",
       "      <td>297319000</td>\n",
       "      <td>2022</td>\n",
       "      <td>ha</td>\n",
       "    </tr>\n",
       "    <tr>\n",
       "      <th>2</th>\n",
       "      <td>Indonesia</td>\n",
       "      <td>IDN</td>\n",
       "      <td>2022</td>\n",
       "      <td>189255550</td>\n",
       "      <td>2022</td>\n",
       "      <td>ha</td>\n",
       "    </tr>\n",
       "    <tr>\n",
       "      <th>3</th>\n",
       "      <td>Myanmar</td>\n",
       "      <td>MMR</td>\n",
       "      <td>2022</td>\n",
       "      <td>65267000</td>\n",
       "      <td>2022</td>\n",
       "      <td>ha</td>\n",
       "    </tr>\n",
       "    <tr>\n",
       "      <th>4</th>\n",
       "      <td>South Korea</td>\n",
       "      <td>KOR</td>\n",
       "      <td>2022</td>\n",
       "      <td>9760000</td>\n",
       "      <td>2022</td>\n",
       "      <td>ha</td>\n",
       "    </tr>\n",
       "    <tr>\n",
       "      <th>5</th>\n",
       "      <td>Thailand</td>\n",
       "      <td>THA</td>\n",
       "      <td>2022</td>\n",
       "      <td>51089000</td>\n",
       "      <td>2022</td>\n",
       "      <td>ha</td>\n",
       "    </tr>\n",
       "    <tr>\n",
       "      <th>6</th>\n",
       "      <td>Vietnam</td>\n",
       "      <td>VNM</td>\n",
       "      <td>2022</td>\n",
       "      <td>31342900</td>\n",
       "      <td>2022</td>\n",
       "      <td>ha</td>\n",
       "    </tr>\n",
       "  </tbody>\n",
       "</table>\n",
       "</div>"
      ],
      "text/plain": [
       "        Entity Code  Year  land_area  time Unit\n",
       "0        China  CHN  2022  938821000  2022   ha\n",
       "1        India  IND  2022  297319000  2022   ha\n",
       "2    Indonesia  IDN  2022  189255550  2022   ha\n",
       "3      Myanmar  MMR  2022   65267000  2022   ha\n",
       "4  South Korea  KOR  2022    9760000  2022   ha\n",
       "5     Thailand  THA  2022   51089000  2022   ha\n",
       "6      Vietnam  VNM  2022   31342900  2022   ha"
      ]
     },
     "execution_count": 816,
     "metadata": {},
     "output_type": "execute_result"
    }
   ],
   "source": [
    "land_area_df[\"Unit\"] = units #land area is in hectares\n",
    "land_area_df"
   ]
  },
  {
   "cell_type": "code",
   "execution_count": 818,
   "id": "864ecdf1-968a-475e-b6a2-23393d5f78e8",
   "metadata": {},
   "outputs": [
    {
     "data": {
      "text/html": [
       "<div>\n",
       "<style scoped>\n",
       "    .dataframe tbody tr th:only-of-type {\n",
       "        vertical-align: middle;\n",
       "    }\n",
       "\n",
       "    .dataframe tbody tr th {\n",
       "        vertical-align: top;\n",
       "    }\n",
       "\n",
       "    .dataframe thead th {\n",
       "        text-align: right;\n",
       "    }\n",
       "</style>\n",
       "<table border=\"1\" class=\"dataframe\">\n",
       "  <thead>\n",
       "    <tr style=\"text-align: right;\">\n",
       "      <th></th>\n",
       "      <th>Area</th>\n",
       "      <th>min</th>\n",
       "      <th>max</th>\n",
       "      <th>range</th>\n",
       "      <th>2023 value</th>\n",
       "      <th>1980 value</th>\n",
       "      <th>2023 vs. 1980</th>\n",
       "      <th>Unit</th>\n",
       "    </tr>\n",
       "  </thead>\n",
       "  <tbody>\n",
       "    <tr>\n",
       "      <th>0</th>\n",
       "      <td>China</td>\n",
       "      <td>0.028525</td>\n",
       "      <td>0.036730</td>\n",
       "      <td>0.008204</td>\n",
       "      <td>0.031072</td>\n",
       "      <td>0.036730</td>\n",
       "      <td>-0.005657</td>\n",
       "      <td>ha</td>\n",
       "    </tr>\n",
       "    <tr>\n",
       "      <th>1</th>\n",
       "      <td>India</td>\n",
       "      <td>0.128690</td>\n",
       "      <td>0.160878</td>\n",
       "      <td>0.032188</td>\n",
       "      <td>0.160864</td>\n",
       "      <td>0.135045</td>\n",
       "      <td>0.025819</td>\n",
       "      <td>ha</td>\n",
       "    </tr>\n",
       "    <tr>\n",
       "      <th>2</th>\n",
       "      <td>Indonesia</td>\n",
       "      <td>0.047494</td>\n",
       "      <td>0.063212</td>\n",
       "      <td>0.015718</td>\n",
       "      <td>0.053968</td>\n",
       "      <td>0.047582</td>\n",
       "      <td>0.006386</td>\n",
       "      <td>ha</td>\n",
       "    </tr>\n",
       "    <tr>\n",
       "      <th>3</th>\n",
       "      <td>Myanmar</td>\n",
       "      <td>0.068684</td>\n",
       "      <td>0.123769</td>\n",
       "      <td>0.055084</td>\n",
       "      <td>0.108635</td>\n",
       "      <td>0.073558</td>\n",
       "      <td>0.035077</td>\n",
       "      <td>ha</td>\n",
       "    </tr>\n",
       "    <tr>\n",
       "      <th>4</th>\n",
       "      <td>South Korea</td>\n",
       "      <td>0.072542</td>\n",
       "      <td>0.129336</td>\n",
       "      <td>0.056794</td>\n",
       "      <td>0.072542</td>\n",
       "      <td>0.126336</td>\n",
       "      <td>-0.053794</td>\n",
       "      <td>ha</td>\n",
       "    </tr>\n",
       "    <tr>\n",
       "      <th>5</th>\n",
       "      <td>Thailand</td>\n",
       "      <td>0.172090</td>\n",
       "      <td>0.234038</td>\n",
       "      <td>0.061949</td>\n",
       "      <td>0.219018</td>\n",
       "      <td>0.180079</td>\n",
       "      <td>0.038938</td>\n",
       "      <td>ha</td>\n",
       "    </tr>\n",
       "    <tr>\n",
       "      <th>6</th>\n",
       "      <td>Vietnam</td>\n",
       "      <td>0.178675</td>\n",
       "      <td>0.252140</td>\n",
       "      <td>0.073465</td>\n",
       "      <td>0.227007</td>\n",
       "      <td>0.178675</td>\n",
       "      <td>0.048332</td>\n",
       "      <td>ha</td>\n",
       "    </tr>\n",
       "  </tbody>\n",
       "</table>\n",
       "</div>"
      ],
      "text/plain": [
       "          Area       min       max     range  2023 value  1980 value  \\\n",
       "0        China  0.028525  0.036730  0.008204    0.031072    0.036730   \n",
       "1        India  0.128690  0.160878  0.032188    0.160864    0.135045   \n",
       "2    Indonesia  0.047494  0.063212  0.015718    0.053968    0.047582   \n",
       "3      Myanmar  0.068684  0.123769  0.055084    0.108635    0.073558   \n",
       "4  South Korea  0.072542  0.129336  0.056794    0.072542    0.126336   \n",
       "5     Thailand  0.172090  0.234038  0.061949    0.219018    0.180079   \n",
       "6      Vietnam  0.178675  0.252140  0.073465    0.227007    0.178675   \n",
       "\n",
       "   2023 vs. 1980 Unit  \n",
       "0      -0.005657   ha  \n",
       "1       0.025819   ha  \n",
       "2       0.006386   ha  \n",
       "3       0.035077   ha  \n",
       "4      -0.053794   ha  \n",
       "5       0.038938   ha  \n",
       "6       0.048332   ha  "
      ]
     },
     "execution_count": 818,
     "metadata": {},
     "output_type": "execute_result"
    }
   ],
   "source": [
    "#proportion of land for rice\n",
    "area_summary_prop_to_land = area_summary\n",
    "\n",
    "for col in ['min', 'max', 'range','2023 value', '1980 value', '2023 vs. 1980']:\n",
    "    area_summary_prop_to_land[col] = area_summary_prop_to_land[col] / land_area_df[\"land_area\"]\n",
    "    \n",
    "area_summary_prop_to_land"
   ]
  },
  {
   "cell_type": "code",
   "execution_count": 820,
   "id": "00095794-b670-4572-97f0-9a105ca5d8a3",
   "metadata": {},
   "outputs": [
    {
     "data": {
      "text/plain": [
       "<matplotlib.legend.Legend at 0x10d686ae0>"
      ]
     },
     "execution_count": 820,
     "metadata": {},
     "output_type": "execute_result"
    },
    {
     "data": {
      "image/png": "[encoded data removed]",
      "text/plain": [
       "<Figure size 640x480 with 1 Axes>"
      ]
     },
     "metadata": {},
     "output_type": "display_data"
    }
   ],
   "source": [
    "#plot now that its proportional\n",
    "val_1980 = area_summary_prop_to_land[\"1980 value\"].tolist()\n",
    "val_2023 =area_summary_prop_to_land[\"2023 value\"].tolist()\n",
    "countries = area_summary_prop_to_land[\"Area\"]\n",
    "\n",
    "for i in range(len(countries)):\n",
    "    plt.plot([1980,2023],[val_1980[i], val_2023[i]], marker='o', label=countries[i])\n",
    "\n",
    "plt.xticks([1980, 2023])\n",
    "plt.ylabel(\"Area harvested proportional to total land area\")\n",
    "plt.title(\"Change in area harvested proportion\")\n",
    "plt.legend()"
   ]
  },
  {
   "cell_type": "markdown",
   "id": "daef184e-bb01-41a0-86d7-57fcdc3f896a",
   "metadata": {},
   "source": [
    "It's evident here that although China has the second-highest area harvested out of all the selected countries, proportional to its land area, the area harvested is actually the smallest out of all countries. "
   ]
  },
  {
   "cell_type": "markdown",
   "id": "6b77ea1f-9c9e-4dbd-b109-66af4e1cc0c4",
   "metadata": {},
   "source": [
    "## Bring in population, employment and micro indicators data sets\n",
    "### Identifying good predictors\n",
    "These datasets come from FAOSTAT, figures are typically from international organizations"
   ]
  },
  {
   "cell_type": "code",
   "execution_count": 824,
   "id": "ad6f3902-68b4-4bee-8595-9e2996907451",
   "metadata": {},
   "outputs": [],
   "source": [
    "employment_data = pd.read_csv(\"FAOSTAT-employment-data.csv\")\n",
    "population_data = pd.read_csv(\"FAOSTAT-population-data.csv\")\n",
    "macro_data = pd.read_csv(\"FAOSTAT-macroecon-data.csv\")"
   ]
  },
  {
   "cell_type": "code",
   "execution_count": 826,
   "id": "6cb3e124-f7d1-44fe-afa9-01012c9fe209",
   "metadata": {},
   "outputs": [],
   "source": [
    "#fix country naming\n",
    "fix_country_naming(employment_data)\n",
    "fix_country_naming(population_data)\n",
    "fix_country_naming(macro_data)"
   ]
  },
  {
   "cell_type": "markdown",
   "id": "f2bf9396-cdf6-4b62-afdc-843997c8d61d",
   "metadata": {},
   "source": [
    "Sources for the employment data include labour force surveys, the FAO model, the ILO, household surveys, and a small amount came from official estimates and other surveys."
   ]
  },
  {
   "cell_type": "code",
   "execution_count": 829,
   "id": "f75b274d-dd21-491a-8b5a-647977e7de38",
   "metadata": {},
   "outputs": [
    {
     "name": "stdout",
     "output_type": "stream",
     "text": [
      "<class 'pandas.core.frame.DataFrame'>\n",
      "RangeIndex: 3176 entries, 0 to 3175\n",
      "Data columns (total 19 columns):\n",
      " #   Column            Non-Null Count  Dtype  \n",
      "---  ------            --------------  -----  \n",
      " 0   Domain Code       3176 non-null   object \n",
      " 1   Domain            3176 non-null   object \n",
      " 2   Area Code (M49)   3176 non-null   int64  \n",
      " 3   Area              3176 non-null   object \n",
      " 4   Indicator Code    3176 non-null   int64  \n",
      " 5   Indicator         3176 non-null   object \n",
      " 6   Sex Code          3176 non-null   int64  \n",
      " 7   Sex               3176 non-null   object \n",
      " 8   Year Code         3176 non-null   int64  \n",
      " 9   Year              3176 non-null   int64  \n",
      " 10  Element Code      3176 non-null   int64  \n",
      " 11  Element           3176 non-null   object \n",
      " 12  Source Code       3176 non-null   int64  \n",
      " 13  Source            3176 non-null   object \n",
      " 14  Unit              3176 non-null   object \n",
      " 15  Value             3176 non-null   float64\n",
      " 16  Flag              3176 non-null   object \n",
      " 17  Flag Description  3176 non-null   object \n",
      " 18  Note              2353 non-null   object \n",
      "dtypes: float64(1), int64(7), object(11)\n",
      "memory usage: 471.6+ KB\n"
     ]
    }
   ],
   "source": [
    "employment_data.info()"
   ]
  },
  {
   "cell_type": "code",
   "execution_count": 831,
   "id": "4fd10f73-02c2-4a98-9a6f-67a22d428726",
   "metadata": {},
   "outputs": [],
   "source": [
    "#narrow down employment indicators , keeping ones with most data and relevance\n",
    "employment_data = employment_data[(employment_data[\"Indicator\"] == \"Employment in agriculture - ILO modelled estimates\") | (employment_data[\"Indicator\"] == \"Share of employment in agriculture in total employment - ILO Modelled Estimates\")]"
   ]
  },
  {
   "cell_type": "code",
   "execution_count": 833,
   "id": "20566226-a158-4159-9cdc-5b1ea6ab7f3a",
   "metadata": {},
   "outputs": [
    {
     "data": {
      "text/plain": [
       "Area\n",
       "China          64\n",
       "India          64\n",
       "Indonesia      64\n",
       "Myanmar        64\n",
       "South Korea    64\n",
       "Thailand       64\n",
       "Vietnam        64\n",
       "Name: count, dtype: int64"
      ]
     },
     "execution_count": 833,
     "metadata": {},
     "output_type": "execute_result"
    }
   ],
   "source": [
    "employment_data.drop(columns=[\"Year Code\", \"Sex Code\", \"Sex\", \"Domain Code\", \"Domain\", \"Area Code (M49)\"],inplace=True) #since not separating gender, remove columns\n",
    "employment_data[\"Area\"].value_counts() #even amount of data for each country after keeping just 2 indicators"
   ]
  },
  {
   "cell_type": "code",
   "execution_count": 835,
   "id": "5e6cf98f-791d-4a5d-b4d4-498aa2744800",
   "metadata": {},
   "outputs": [
    {
     "name": "stdout",
     "output_type": "stream",
     "text": [
      "<class 'pandas.core.frame.DataFrame'>\n",
      "RangeIndex: 1540 entries, 0 to 1539\n",
      "Data columns (total 15 columns):\n",
      " #   Column            Non-Null Count  Dtype  \n",
      "---  ------            --------------  -----  \n",
      " 0   Domain Code       1540 non-null   object \n",
      " 1   Domain            1540 non-null   object \n",
      " 2   Area Code (M49)   1540 non-null   int64  \n",
      " 3   Area              1540 non-null   object \n",
      " 4   Element Code      1540 non-null   int64  \n",
      " 5   Element           1540 non-null   object \n",
      " 6   Item Code         1540 non-null   int64  \n",
      " 7   Item              1540 non-null   object \n",
      " 8   Year Code         1540 non-null   int64  \n",
      " 9   Year              1540 non-null   int64  \n",
      " 10  Unit              1540 non-null   object \n",
      " 11  Value             1540 non-null   float64\n",
      " 12  Flag              1540 non-null   object \n",
      " 13  Flag Description  1540 non-null   object \n",
      " 14  Note              0 non-null      float64\n",
      "dtypes: float64(2), int64(5), object(8)\n",
      "memory usage: 180.6+ KB\n"
     ]
    }
   ],
   "source": [
    "population_data.info()"
   ]
  },
  {
   "cell_type": "code",
   "execution_count": 837,
   "id": "70360fa5-3fd1-478b-9315-999074ba5c09",
   "metadata": {},
   "outputs": [
    {
     "data": {
      "text/plain": [
       "Element\n",
       "Total Population - Both sexes    308\n",
       "Total Population - Male          308\n",
       "Total Population - Female        308\n",
       "Rural population                 308\n",
       "Urban population                 308\n",
       "Name: count, dtype: int64"
      ]
     },
     "execution_count": 837,
     "metadata": {},
     "output_type": "execute_result"
    }
   ],
   "source": [
    "population_data.drop(columns=[\"Area Code (M49)\",\"Domain Code\",\"Domain\", \"Item Code\",\"Item\",\"Year Code\"],inplace=True)\n",
    "population_data[\"Element\"].value_counts()"
   ]
  },
  {
   "cell_type": "code",
   "execution_count": 839,
   "id": "007a998f-d1ca-4371-a679-12b829b192fd",
   "metadata": {},
   "outputs": [
    {
     "data": {
      "text/html": [
       "<div>\n",
       "<style scoped>\n",
       "    .dataframe tbody tr th:only-of-type {\n",
       "        vertical-align: middle;\n",
       "    }\n",
       "\n",
       "    .dataframe tbody tr th {\n",
       "        vertical-align: top;\n",
       "    }\n",
       "\n",
       "    .dataframe thead th {\n",
       "        text-align: right;\n",
       "    }\n",
       "</style>\n",
       "<table border=\"1\" class=\"dataframe\">\n",
       "  <thead>\n",
       "    <tr style=\"text-align: right;\">\n",
       "      <th></th>\n",
       "      <th>Area</th>\n",
       "      <th>Element Code</th>\n",
       "      <th>Element</th>\n",
       "      <th>Year</th>\n",
       "      <th>Unit</th>\n",
       "      <th>Value</th>\n",
       "      <th>Flag</th>\n",
       "      <th>Flag Description</th>\n",
       "      <th>Note</th>\n",
       "    </tr>\n",
       "  </thead>\n",
       "  <tbody>\n",
       "    <tr>\n",
       "      <th>0</th>\n",
       "      <td>China</td>\n",
       "      <td>511</td>\n",
       "      <td>Total Population - Both sexes</td>\n",
       "      <td>1980</td>\n",
       "      <td>1000 No</td>\n",
       "      <td>1006458.644</td>\n",
       "      <td>X</td>\n",
       "      <td>Figure from international organizations</td>\n",
       "      <td>NaN</td>\n",
       "    </tr>\n",
       "    <tr>\n",
       "      <th>1</th>\n",
       "      <td>China</td>\n",
       "      <td>512</td>\n",
       "      <td>Total Population - Male</td>\n",
       "      <td>1980</td>\n",
       "      <td>1000 No</td>\n",
       "      <td>512691.668</td>\n",
       "      <td>X</td>\n",
       "      <td>Figure from international organizations</td>\n",
       "      <td>NaN</td>\n",
       "    </tr>\n",
       "    <tr>\n",
       "      <th>2</th>\n",
       "      <td>China</td>\n",
       "      <td>513</td>\n",
       "      <td>Total Population - Female</td>\n",
       "      <td>1980</td>\n",
       "      <td>1000 No</td>\n",
       "      <td>493766.976</td>\n",
       "      <td>X</td>\n",
       "      <td>Figure from international organizations</td>\n",
       "      <td>NaN</td>\n",
       "    </tr>\n",
       "    <tr>\n",
       "      <th>3</th>\n",
       "      <td>China</td>\n",
       "      <td>551</td>\n",
       "      <td>Rural population</td>\n",
       "      <td>1980</td>\n",
       "      <td>1000 No</td>\n",
       "      <td>810993.444</td>\n",
       "      <td>X</td>\n",
       "      <td>Figure from international organizations</td>\n",
       "      <td>NaN</td>\n",
       "    </tr>\n",
       "    <tr>\n",
       "      <th>4</th>\n",
       "      <td>China</td>\n",
       "      <td>561</td>\n",
       "      <td>Urban population</td>\n",
       "      <td>1980</td>\n",
       "      <td>1000 No</td>\n",
       "      <td>205754.823</td>\n",
       "      <td>X</td>\n",
       "      <td>Figure from international organizations</td>\n",
       "      <td>NaN</td>\n",
       "    </tr>\n",
       "    <tr>\n",
       "      <th>...</th>\n",
       "      <td>...</td>\n",
       "      <td>...</td>\n",
       "      <td>...</td>\n",
       "      <td>...</td>\n",
       "      <td>...</td>\n",
       "      <td>...</td>\n",
       "      <td>...</td>\n",
       "      <td>...</td>\n",
       "      <td>...</td>\n",
       "    </tr>\n",
       "    <tr>\n",
       "      <th>1535</th>\n",
       "      <td>Vietnam</td>\n",
       "      <td>511</td>\n",
       "      <td>Total Population - Both sexes</td>\n",
       "      <td>2023</td>\n",
       "      <td>1000 No</td>\n",
       "      <td>100352.192</td>\n",
       "      <td>X</td>\n",
       "      <td>Figure from international organizations</td>\n",
       "      <td>NaN</td>\n",
       "    </tr>\n",
       "    <tr>\n",
       "      <th>1536</th>\n",
       "      <td>Vietnam</td>\n",
       "      <td>512</td>\n",
       "      <td>Total Population - Male</td>\n",
       "      <td>2023</td>\n",
       "      <td>1000 No</td>\n",
       "      <td>49150.969</td>\n",
       "      <td>X</td>\n",
       "      <td>Figure from international organizations</td>\n",
       "      <td>NaN</td>\n",
       "    </tr>\n",
       "    <tr>\n",
       "      <th>1537</th>\n",
       "      <td>Vietnam</td>\n",
       "      <td>513</td>\n",
       "      <td>Total Population - Female</td>\n",
       "      <td>2023</td>\n",
       "      <td>1000 No</td>\n",
       "      <td>51201.223</td>\n",
       "      <td>X</td>\n",
       "      <td>Figure from international organizations</td>\n",
       "      <td>NaN</td>\n",
       "    </tr>\n",
       "    <tr>\n",
       "      <th>1538</th>\n",
       "      <td>Vietnam</td>\n",
       "      <td>551</td>\n",
       "      <td>Rural population</td>\n",
       "      <td>2023</td>\n",
       "      <td>1000 No</td>\n",
       "      <td>61175.828</td>\n",
       "      <td>X</td>\n",
       "      <td>Figure from international organizations</td>\n",
       "      <td>NaN</td>\n",
       "    </tr>\n",
       "    <tr>\n",
       "      <th>1539</th>\n",
       "      <td>Vietnam</td>\n",
       "      <td>561</td>\n",
       "      <td>Urban population</td>\n",
       "      <td>2023</td>\n",
       "      <td>1000 No</td>\n",
       "      <td>39908.501</td>\n",
       "      <td>X</td>\n",
       "      <td>Figure from international organizations</td>\n",
       "      <td>NaN</td>\n",
       "    </tr>\n",
       "  </tbody>\n",
       "</table>\n",
       "<p>1540 rows × 9 columns</p>\n",
       "</div>"
      ],
      "text/plain": [
       "         Area  Element Code                        Element  Year     Unit  \\\n",
       "0       China           511  Total Population - Both sexes  1980  1000 No   \n",
       "1       China           512        Total Population - Male  1980  1000 No   \n",
       "2       China           513      Total Population - Female  1980  1000 No   \n",
       "3       China           551               Rural population  1980  1000 No   \n",
       "4       China           561               Urban population  1980  1000 No   \n",
       "...       ...           ...                            ...   ...      ...   \n",
       "1535  Vietnam           511  Total Population - Both sexes  2023  1000 No   \n",
       "1536  Vietnam           512        Total Population - Male  2023  1000 No   \n",
       "1537  Vietnam           513      Total Population - Female  2023  1000 No   \n",
       "1538  Vietnam           551               Rural population  2023  1000 No   \n",
       "1539  Vietnam           561               Urban population  2023  1000 No   \n",
       "\n",
       "            Value Flag                         Flag Description  Note  \n",
       "0     1006458.644    X  Figure from international organizations   NaN  \n",
       "1      512691.668    X  Figure from international organizations   NaN  \n",
       "2      493766.976    X  Figure from international organizations   NaN  \n",
       "3      810993.444    X  Figure from international organizations   NaN  \n",
       "4      205754.823    X  Figure from international organizations   NaN  \n",
       "...           ...  ...                                      ...   ...  \n",
       "1535   100352.192    X  Figure from international organizations   NaN  \n",
       "1536    49150.969    X  Figure from international organizations   NaN  \n",
       "1537    51201.223    X  Figure from international organizations   NaN  \n",
       "1538    61175.828    X  Figure from international organizations   NaN  \n",
       "1539    39908.501    X  Figure from international organizations   NaN  \n",
       "\n",
       "[1540 rows x 9 columns]"
      ]
     },
     "execution_count": 839,
     "metadata": {},
     "output_type": "execute_result"
    }
   ],
   "source": [
    "population_data"
   ]
  },
  {
   "cell_type": "code",
   "execution_count": 841,
   "id": "6bd20ca8-b450-4766-81f5-512ec85b43ca",
   "metadata": {},
   "outputs": [
    {
     "name": "stderr",
     "output_type": "stream",
     "text": [
      "/var/folders/6k/pn7_fvfd4t9fhmt03ygvbwz80000gn/T/ipykernel_96383/173646330.py:4: DeprecationWarning:\n",
      "\n",
      "DataFrameGroupBy.apply operated on the grouping columns. This behavior is deprecated, and in a future version of pandas the grouping columns will be excluded from the operation. Either pass `include_groups=False` to exclude the groupings or explicitly select the grouping columns after groupby to silence this warning.\n",
      "\n"
     ]
    }
   ],
   "source": [
    "rural = population_data[population_data[\"Element\"] == \"Rural population\"]\n",
    "urban = population_data[population_data[\"Element\"] == \"Urban population\"]\n",
    "\n",
    "rural_urban_df = rural.groupby(\"Area\").apply(lambda x: x['Value']).reset_index()"
   ]
  },
  {
   "cell_type": "code",
   "execution_count": 843,
   "id": "ed4bc916-0713-41ac-9374-984b20967876",
   "metadata": {},
   "outputs": [
    {
     "name": "stderr",
     "output_type": "stream",
     "text": [
      "/var/folders/6k/pn7_fvfd4t9fhmt03ygvbwz80000gn/T/ipykernel_96383/84934028.py:3: DeprecationWarning:\n",
      "\n",
      "DataFrameGroupBy.apply operated on the grouping columns. This behavior is deprecated, and in a future version of pandas the grouping columns will be excluded from the operation. Either pass `include_groups=False` to exclude the groupings or explicitly select the grouping columns after groupby to silence this warning.\n",
      "\n"
     ]
    }
   ],
   "source": [
    "rural_urban_df[\"Year\"] = rural[\"Year\"].unique().tolist() * 7 # in ascending order of years, resets each new country\n",
    "rural_urban_df.rename(columns={\"Value\":\"Rural\"},inplace=True)\n",
    "rural_urban_df[\"Urban\"] = urban.groupby(\"Area\").apply(lambda x: x['Value']).reset_index()[\"Value\"].tolist()\n",
    "rural_urban_df[\"Urban:Rural\"] = rural_urban_df[\"Urban\"] / rural_urban_df[\"Rural\"] "
   ]
  },
  {
   "cell_type": "code",
   "execution_count": 845,
   "id": "3a0b30b6-bdfd-45ec-adc8-50e08f1fdd42",
   "metadata": {},
   "outputs": [
    {
     "data": {
      "text/html": [
       "<div>\n",
       "<style scoped>\n",
       "    .dataframe tbody tr th:only-of-type {\n",
       "        vertical-align: middle;\n",
       "    }\n",
       "\n",
       "    .dataframe tbody tr th {\n",
       "        vertical-align: top;\n",
       "    }\n",
       "\n",
       "    .dataframe thead th {\n",
       "        text-align: right;\n",
       "    }\n",
       "</style>\n",
       "<table border=\"1\" class=\"dataframe\">\n",
       "  <thead>\n",
       "    <tr style=\"text-align: right;\">\n",
       "      <th></th>\n",
       "      <th>Area</th>\n",
       "      <th>level_1</th>\n",
       "      <th>Rural</th>\n",
       "      <th>Year</th>\n",
       "      <th>Urban</th>\n",
       "      <th>Urban:Rural</th>\n",
       "    </tr>\n",
       "  </thead>\n",
       "  <tbody>\n",
       "    <tr>\n",
       "      <th>0</th>\n",
       "      <td>China</td>\n",
       "      <td>3</td>\n",
       "      <td>810993.444</td>\n",
       "      <td>1980</td>\n",
       "      <td>205754.823</td>\n",
       "      <td>0.253707</td>\n",
       "    </tr>\n",
       "    <tr>\n",
       "      <th>1</th>\n",
       "      <td>China</td>\n",
       "      <td>8</td>\n",
       "      <td>814531.684</td>\n",
       "      <td>1981</td>\n",
       "      <td>216741.822</td>\n",
       "      <td>0.266094</td>\n",
       "    </tr>\n",
       "    <tr>\n",
       "      <th>2</th>\n",
       "      <td>China</td>\n",
       "      <td>13</td>\n",
       "      <td>817712.036</td>\n",
       "      <td>1982</td>\n",
       "      <td>228199.645</td>\n",
       "      <td>0.279071</td>\n",
       "    </tr>\n",
       "    <tr>\n",
       "      <th>3</th>\n",
       "      <td>China</td>\n",
       "      <td>18</td>\n",
       "      <td>822595.313</td>\n",
       "      <td>1983</td>\n",
       "      <td>238557.736</td>\n",
       "      <td>0.290006</td>\n",
       "    </tr>\n",
       "    <tr>\n",
       "      <th>4</th>\n",
       "      <td>China</td>\n",
       "      <td>23</td>\n",
       "      <td>828062.325</td>\n",
       "      <td>1984</td>\n",
       "      <td>249540.591</td>\n",
       "      <td>0.301355</td>\n",
       "    </tr>\n",
       "    <tr>\n",
       "      <th>...</th>\n",
       "      <td>...</td>\n",
       "      <td>...</td>\n",
       "      <td>...</td>\n",
       "      <td>...</td>\n",
       "      <td>...</td>\n",
       "      <td>...</td>\n",
       "    </tr>\n",
       "    <tr>\n",
       "      <th>303</th>\n",
       "      <td>Vietnam</td>\n",
       "      <td>1518</td>\n",
       "      <td>61742.331</td>\n",
       "      <td>2019</td>\n",
       "      <td>35686.730</td>\n",
       "      <td>0.577995</td>\n",
       "    </tr>\n",
       "    <tr>\n",
       "      <th>304</th>\n",
       "      <td>Vietnam</td>\n",
       "      <td>1523</td>\n",
       "      <td>61632.897</td>\n",
       "      <td>2020</td>\n",
       "      <td>36727.248</td>\n",
       "      <td>0.595903</td>\n",
       "    </tr>\n",
       "    <tr>\n",
       "      <th>305</th>\n",
       "      <td>Vietnam</td>\n",
       "      <td>1528</td>\n",
       "      <td>61504.284</td>\n",
       "      <td>2021</td>\n",
       "      <td>37779.862</td>\n",
       "      <td>0.614264</td>\n",
       "    </tr>\n",
       "    <tr>\n",
       "      <th>306</th>\n",
       "      <td>Vietnam</td>\n",
       "      <td>1533</td>\n",
       "      <td>61353.202</td>\n",
       "      <td>2022</td>\n",
       "      <td>38841.525</td>\n",
       "      <td>0.633081</td>\n",
       "    </tr>\n",
       "    <tr>\n",
       "      <th>307</th>\n",
       "      <td>Vietnam</td>\n",
       "      <td>1538</td>\n",
       "      <td>61175.828</td>\n",
       "      <td>2023</td>\n",
       "      <td>39908.501</td>\n",
       "      <td>0.652357</td>\n",
       "    </tr>\n",
       "  </tbody>\n",
       "</table>\n",
       "<p>308 rows × 6 columns</p>\n",
       "</div>"
      ],
      "text/plain": [
       "        Area  level_1       Rural  Year       Urban  Urban:Rural\n",
       "0      China        3  810993.444  1980  205754.823     0.253707\n",
       "1      China        8  814531.684  1981  216741.822     0.266094\n",
       "2      China       13  817712.036  1982  228199.645     0.279071\n",
       "3      China       18  822595.313  1983  238557.736     0.290006\n",
       "4      China       23  828062.325  1984  249540.591     0.301355\n",
       "..       ...      ...         ...   ...         ...          ...\n",
       "303  Vietnam     1518   61742.331  2019   35686.730     0.577995\n",
       "304  Vietnam     1523   61632.897  2020   36727.248     0.595903\n",
       "305  Vietnam     1528   61504.284  2021   37779.862     0.614264\n",
       "306  Vietnam     1533   61353.202  2022   38841.525     0.633081\n",
       "307  Vietnam     1538   61175.828  2023   39908.501     0.652357\n",
       "\n",
       "[308 rows x 6 columns]"
      ]
     },
     "execution_count": 845,
     "metadata": {},
     "output_type": "execute_result"
    }
   ],
   "source": [
    "rural_urban_df #add ratio of urban to rural population, the unit is 1000 No"
   ]
  },
  {
   "cell_type": "code",
   "execution_count": 847,
   "id": "73bb5e4e-78d3-4657-967c-44cbfe19502f",
   "metadata": {},
   "outputs": [
    {
     "data": {
      "text/plain": [
       "Text(0.5, 1.0, 'Ratio of Urban to Rural Population Over Time')"
      ]
     },
     "execution_count": 847,
     "metadata": {},
     "output_type": "execute_result"
    },
    {
     "data": {
      "image/png": "[encoded data removed]",
      "text/plain": [
       "<Figure size 1000x600 with 1 Axes>"
      ]
     },
     "metadata": {},
     "output_type": "display_data"
    }
   ],
   "source": [
    "plt.figure(figsize=(10,6))\n",
    "sns.lineplot(data=rural_urban_df,x=\"Year\",y=\"Urban:Rural\",hue=\"Area\")\n",
    "plt.title(\"Ratio of Urban to Rural Population Over Time\")"
   ]
  },
  {
   "cell_type": "markdown",
   "id": "b8ea9ff6-3239-40df-809b-57f10433d4ef",
   "metadata": {},
   "source": [
    "### Note about macro data\n",
    "Due to sparse availability of Value Added (Agriculture) data alone in FAOSTAT, my analysis uses Value Added (Agriculture, Forestry, Fishing) to proxy agricultural economic output. This allows for the data to range over a longer time period, and is justified as the selected countries have a marjority share in the agricultural economy over others."
   ]
  },
  {
   "cell_type": "code",
   "execution_count": 850,
   "id": "9927f3f0-9c3d-43d8-a6e7-868ed6cd64dd",
   "metadata": {},
   "outputs": [
    {
     "name": "stdout",
     "output_type": "stream",
     "text": [
      "<class 'pandas.core.frame.DataFrame'>\n",
      "RangeIndex: 636 entries, 0 to 635\n",
      "Data columns (total 15 columns):\n",
      " #   Column            Non-Null Count  Dtype  \n",
      "---  ------            --------------  -----  \n",
      " 0   Domain Code       636 non-null    object \n",
      " 1   Domain            636 non-null    object \n",
      " 2   Area Code (M49)   636 non-null    int64  \n",
      " 3   Area              636 non-null    object \n",
      " 4   Element Code      636 non-null    int64  \n",
      " 5   Element           636 non-null    object \n",
      " 6   Item Code         636 non-null    int64  \n",
      " 7   Item              636 non-null    object \n",
      " 8   Year Code         636 non-null    int64  \n",
      " 9   Year              636 non-null    int64  \n",
      " 10  Unit              636 non-null    object \n",
      " 11  Value             636 non-null    float64\n",
      " 12  Flag              636 non-null    object \n",
      " 13  Flag Description  636 non-null    object \n",
      " 14  Note              0 non-null      float64\n",
      "dtypes: float64(2), int64(5), object(8)\n",
      "memory usage: 74.7+ KB\n"
     ]
    }
   ],
   "source": [
    "#view macro data\n",
    "macro_data.info()\n",
    "macro_data.drop(columns=[\"Domain Code\",\"Domain\",\"Area Code (M49)\",\"Year Code\"])\n",
    "macro_data.replace({\"China, mainland\": \"China\"},inplace=True) #Whenever \"China\" appears, it is always referring to mainland"
   ]
  },
  {
   "cell_type": "code",
   "execution_count": 852,
   "id": "b78b44eb-529a-44af-aa24-cc15ae9f3ba3",
   "metadata": {},
   "outputs": [],
   "source": [
    "#isolate agriculture's value added as a share of GDP\n",
    "val_added_as_share = macro_data[(macro_data[\"Element Code\"] == 61570) & (macro_data[\"Item Code\"] == 22016)]\n",
    "val_added_usd = macro_data[(macro_data[\"Element Code\"] == 6110) & (macro_data[\"Item Code\"] == 22016)]"
   ]
  },
  {
   "cell_type": "code",
   "execution_count": 854,
   "id": "0d9fcfd7-bca6-4046-9c84-d510e9d13562",
   "metadata": {},
   "outputs": [
    {
     "data": {
      "text/plain": [
       "Text(0, 0.5, 'Value Added (USD)')"
      ]
     },
     "execution_count": 854,
     "metadata": {},
     "output_type": "execute_result"
    },
    {
     "data": {
      "image/png": "[encoded data removed]",
      "text/plain": [
       "<Figure size 1000x600 with 1 Axes>"
      ]
     },
     "metadata": {},
     "output_type": "display_data"
    }
   ],
   "source": [
    "plt.figure(figsize=(10,6))\n",
    "sns.lineplot(data=val_added_usd,x=\"Year\",y=\"Value\",hue=\"Area\")\n",
    "plt.title(\"Agriculture's value added in USD\")\n",
    "plt.ylabel(\"Value Added (USD)\")"
   ]
  },
  {
   "cell_type": "code",
   "execution_count": 856,
   "id": "a31ca298-adad-4036-b3a6-a4fe8d0c8953",
   "metadata": {},
   "outputs": [
    {
     "data": {
      "text/plain": [
       "Text(0, 0.5, 'Share of GDP (%)')"
      ]
     },
     "execution_count": 856,
     "metadata": {},
     "output_type": "execute_result"
    },
    {
     "data": {
      "image/png": "[encoded data removed]",
      "text/plain": [
       "<Figure size 1000x600 with 1 Axes>"
      ]
     },
     "metadata": {},
     "output_type": "display_data"
    }
   ],
   "source": [
    "plt.figure(figsize=(10,6))\n",
    "sns.lineplot(data=val_added_as_share,x=\"Year\",y=\"Value\",hue=\"Area\")\n",
    "plt.title(\"Agriculture's value added as a share of GDP\")\n",
    "plt.ylabel(\"Share of GDP (%)\")"
   ]
  },
  {
   "cell_type": "markdown",
   "id": "eaa1721b-a86f-4b40-8df2-139c919a66d8",
   "metadata": {},
   "source": [
    "# Simple models"
   ]
  },
  {
   "cell_type": "markdown",
   "id": "253b8130-b29b-4275-9bce-3ede725aab0d",
   "metadata": {},
   "source": [
    "Predictors: urban:rural ratio, percent working in agriculture, total population, value added (USD), value added (% GDP)\n",
    "\n",
    "Dependent variable: yield\n",
    "\n",
    "note: employed_in_ag and total_population are in 1,000s (so multiple by 1,000 to get full number)"
   ]
  },
  {
   "cell_type": "markdown",
   "id": "93e08cb4-b3e5-4831-afca-e95118a5342e",
   "metadata": {},
   "source": [
    "## Creating dataframe to build model from and adding columns"
   ]
  },
  {
   "cell_type": "code",
   "execution_count": 927,
   "id": "448fa5eb-83f9-4e29-bbf0-52f76d9dbedd",
   "metadata": {},
   "outputs": [
    {
     "data": {
      "text/html": [
       "<div>\n",
       "<style scoped>\n",
       "    .dataframe tbody tr th:only-of-type {\n",
       "        vertical-align: middle;\n",
       "    }\n",
       "\n",
       "    .dataframe tbody tr th {\n",
       "        vertical-align: top;\n",
       "    }\n",
       "\n",
       "    .dataframe thead th {\n",
       "        text-align: right;\n",
       "    }\n",
       "</style>\n",
       "<table border=\"1\" class=\"dataframe\">\n",
       "  <thead>\n",
       "    <tr style=\"text-align: right;\">\n",
       "      <th></th>\n",
       "      <th></th>\n",
       "      <th>Yield (kg/ha)</th>\n",
       "    </tr>\n",
       "    <tr>\n",
       "      <th>Area</th>\n",
       "      <th>Year</th>\n",
       "      <th></th>\n",
       "    </tr>\n",
       "  </thead>\n",
       "  <tbody>\n",
       "    <tr>\n",
       "      <th rowspan=\"5\" valign=\"top\">China</th>\n",
       "      <th>1980</th>\n",
       "      <td>1.428765e+08</td>\n",
       "    </tr>\n",
       "    <tr>\n",
       "      <th>1981</th>\n",
       "      <td>1.469598e+08</td>\n",
       "    </tr>\n",
       "    <tr>\n",
       "      <th>1982</th>\n",
       "      <td>1.647414e+08</td>\n",
       "    </tr>\n",
       "    <tr>\n",
       "      <th>1983</th>\n",
       "      <td>1.720089e+08</td>\n",
       "    </tr>\n",
       "    <tr>\n",
       "      <th>1984</th>\n",
       "      <td>1.810958e+08</td>\n",
       "    </tr>\n",
       "    <tr>\n",
       "      <th>...</th>\n",
       "      <th>...</th>\n",
       "      <td>...</td>\n",
       "    </tr>\n",
       "    <tr>\n",
       "      <th rowspan=\"5\" valign=\"top\">Vietnam</th>\n",
       "      <th>2019</th>\n",
       "      <td>4.349549e+07</td>\n",
       "    </tr>\n",
       "    <tr>\n",
       "      <th>2020</th>\n",
       "      <td>4.276500e+07</td>\n",
       "    </tr>\n",
       "    <tr>\n",
       "      <th>2021</th>\n",
       "      <td>4.385273e+07</td>\n",
       "    </tr>\n",
       "    <tr>\n",
       "      <th>2022</th>\n",
       "      <td>4.266080e+07</td>\n",
       "    </tr>\n",
       "    <tr>\n",
       "      <th>2023</th>\n",
       "      <td>4.349762e+07</td>\n",
       "    </tr>\n",
       "  </tbody>\n",
       "</table>\n",
       "<p>307 rows × 1 columns</p>\n",
       "</div>"
      ],
      "text/plain": [
       "              Yield (kg/ha)\n",
       "Area    Year               \n",
       "China   1980   1.428765e+08\n",
       "        1981   1.469598e+08\n",
       "        1982   1.647414e+08\n",
       "        1983   1.720089e+08\n",
       "        1984   1.810958e+08\n",
       "...                     ...\n",
       "Vietnam 2019   4.349549e+07\n",
       "        2020   4.276500e+07\n",
       "        2021   4.385273e+07\n",
       "        2022   4.266080e+07\n",
       "        2023   4.349762e+07\n",
       "\n",
       "[307 rows x 1 columns]"
      ]
     },
     "execution_count": 927,
     "metadata": {},
     "output_type": "execute_result"
    }
   ],
   "source": [
    "#create new df, index by Area and Year. Add Yield as first column\n",
    "df = data_df.set_index([\"Area\",\"Year\"])\n",
    "df = df[df[\"Element\"] == \"Production\"]\n",
    "df = df[[\"Value\"]]\n",
    "df.rename(columns={\"Value\": \"Yield (kg/ha)\"},inplace=True)\n",
    "df"
   ]
  },
  {
   "cell_type": "code",
   "execution_count": 929,
   "id": "833b517b-c517-4033-a071-2917f8d99010",
   "metadata": {},
   "outputs": [
    {
     "data": {
      "text/html": [
       "<div>\n",
       "<style scoped>\n",
       "    .dataframe tbody tr th:only-of-type {\n",
       "        vertical-align: middle;\n",
       "    }\n",
       "\n",
       "    .dataframe tbody tr th {\n",
       "        vertical-align: top;\n",
       "    }\n",
       "\n",
       "    .dataframe thead th {\n",
       "        text-align: right;\n",
       "    }\n",
       "</style>\n",
       "<table border=\"1\" class=\"dataframe\">\n",
       "  <thead>\n",
       "    <tr style=\"text-align: right;\">\n",
       "      <th></th>\n",
       "      <th></th>\n",
       "      <th>Urban:Rural</th>\n",
       "      <th>total_population</th>\n",
       "    </tr>\n",
       "    <tr>\n",
       "      <th>Area</th>\n",
       "      <th>Year</th>\n",
       "      <th></th>\n",
       "      <th></th>\n",
       "    </tr>\n",
       "  </thead>\n",
       "  <tbody>\n",
       "    <tr>\n",
       "      <th rowspan=\"5\" valign=\"top\">China</th>\n",
       "      <th>1980</th>\n",
       "      <td>0.253707</td>\n",
       "      <td>1016748.267</td>\n",
       "    </tr>\n",
       "    <tr>\n",
       "      <th>1981</th>\n",
       "      <td>0.266094</td>\n",
       "      <td>1031273.506</td>\n",
       "    </tr>\n",
       "    <tr>\n",
       "      <th>1982</th>\n",
       "      <td>0.279071</td>\n",
       "      <td>1045911.681</td>\n",
       "    </tr>\n",
       "    <tr>\n",
       "      <th>1983</th>\n",
       "      <td>0.290006</td>\n",
       "      <td>1061153.049</td>\n",
       "    </tr>\n",
       "    <tr>\n",
       "      <th>1984</th>\n",
       "      <td>0.301355</td>\n",
       "      <td>1077602.916</td>\n",
       "    </tr>\n",
       "    <tr>\n",
       "      <th>...</th>\n",
       "      <th>...</th>\n",
       "      <td>...</td>\n",
       "      <td>...</td>\n",
       "    </tr>\n",
       "    <tr>\n",
       "      <th rowspan=\"5\" valign=\"top\">Vietnam</th>\n",
       "      <th>2019</th>\n",
       "      <td>0.577995</td>\n",
       "      <td>97429.061</td>\n",
       "    </tr>\n",
       "    <tr>\n",
       "      <th>2020</th>\n",
       "      <td>0.595903</td>\n",
       "      <td>98360.145</td>\n",
       "    </tr>\n",
       "    <tr>\n",
       "      <th>2021</th>\n",
       "      <td>0.614264</td>\n",
       "      <td>99284.146</td>\n",
       "    </tr>\n",
       "    <tr>\n",
       "      <th>2022</th>\n",
       "      <td>0.633081</td>\n",
       "      <td>100194.727</td>\n",
       "    </tr>\n",
       "    <tr>\n",
       "      <th>2023</th>\n",
       "      <td>0.652357</td>\n",
       "      <td>101084.329</td>\n",
       "    </tr>\n",
       "  </tbody>\n",
       "</table>\n",
       "<p>308 rows × 2 columns</p>\n",
       "</div>"
      ],
      "text/plain": [
       "              Urban:Rural  total_population\n",
       "Area    Year                               \n",
       "China   1980     0.253707       1016748.267\n",
       "        1981     0.266094       1031273.506\n",
       "        1982     0.279071       1045911.681\n",
       "        1983     0.290006       1061153.049\n",
       "        1984     0.301355       1077602.916\n",
       "...                   ...               ...\n",
       "Vietnam 2019     0.577995         97429.061\n",
       "        2020     0.595903         98360.145\n",
       "        2021     0.614264         99284.146\n",
       "        2022     0.633081        100194.727\n",
       "        2023     0.652357        101084.329\n",
       "\n",
       "[308 rows x 2 columns]"
      ]
     },
     "execution_count": 929,
     "metadata": {},
     "output_type": "execute_result"
    }
   ],
   "source": [
    "#add population data to columns\n",
    "temp_df = rural_urban_df.set_index([\"Area\",\"Year\"])\n",
    "temp_df[\"total_population\"] = temp_df[\"Urban\"] + temp_df[\"Rural\"]\n",
    "temp_df = temp_df[[\"Urban:Rural\",\"total_population\"]]\n",
    "\n",
    "temp_df"
   ]
  },
  {
   "cell_type": "code",
   "execution_count": 931,
   "id": "a7df032d-498e-48e1-b497-abdb685c288d",
   "metadata": {},
   "outputs": [],
   "source": [
    "df = pd.merge(df,temp_df, on=[\"Area\",\"Year\"])"
   ]
  },
  {
   "cell_type": "code",
   "execution_count": 933,
   "id": "8d924ea6-9589-4555-8626-89536010203f",
   "metadata": {},
   "outputs": [],
   "source": [
    "#add employment data\n",
    "temp_df = employment_data.set_index([\"Area\",\"Year\"])\n",
    "temp_1 = temp_df[temp_df[\"Indicator Code\"] == 21144][[\"Value\"]]\n",
    "temp_1.rename(columns={\"Value\":\"employed_in_ag\"},inplace=True)\n",
    "\n",
    "temp_2 = temp_df[temp_df[\"Indicator Code\"] == 21156][[\"Value\"]]\n",
    "temp_2.rename(columns={\"Value\":\"percent_employed_in_ag\"},inplace=True)\n",
    "\n",
    "temp_df = pd.merge(temp_1, temp_2, on=[\"Area\",\"Year\"])"
   ]
  },
  {
   "cell_type": "code",
   "execution_count": 935,
   "id": "11040f9c-315a-417c-96d9-1e111d5655fc",
   "metadata": {},
   "outputs": [],
   "source": [
    "df = pd.merge(df,temp_df, on=[\"Area\",\"Year\"])"
   ]
  },
  {
   "cell_type": "code",
   "execution_count": 937,
   "id": "8e98ad98-98ee-46ea-bd97-1cf00c722f03",
   "metadata": {},
   "outputs": [],
   "source": [
    "#add macro data\n",
    "temp_df = macro_data.set_index([\"Area\",\"Year\"])"
   ]
  },
  {
   "cell_type": "code",
   "execution_count": 939,
   "id": "3e2244bb-ca1f-40db-aa66-2df49fa218ee",
   "metadata": {},
   "outputs": [],
   "source": [
    "\n",
    "temp_1 = val_added_as_share.set_index([\"Area\",\"Year\"])[[\"Value\"]]\n",
    "temp_1.rename(columns={\"Value\":\"val_added_percent_GDP\"},inplace=True)\n",
    "\n",
    "temp_2 = val_added_usd.set_index([\"Area\",\"Year\"])[[\"Value\"]]\n",
    "temp_2.rename(columns={\"Value\":\"val_added_mil_USD\"},inplace=True)\n",
    "\n",
    "temp_df = pd.merge(temp_1, temp_2, on=[\"Area\",\"Year\"])"
   ]
  },
  {
   "cell_type": "code",
   "execution_count": 941,
   "id": "b6728a8c-0551-4c98-ba3e-d9781c16185c",
   "metadata": {},
   "outputs": [],
   "source": [
    "df = pd.merge(df,temp_df, on=[\"Area\",\"Year\"])"
   ]
  },
  {
   "cell_type": "markdown",
   "id": "f4fafdf1-8ee4-464c-b7f0-11b3c6dfaeaf",
   "metadata": {},
   "source": [
    "View dataframe as it stands currently."
   ]
  },
  {
   "cell_type": "code",
   "execution_count": 944,
   "id": "b4c3cd92-5419-42e8-97a6-684b1b32ae69",
   "metadata": {},
   "outputs": [
    {
     "data": {
      "text/html": [
       "<div>\n",
       "<style scoped>\n",
       "    .dataframe tbody tr th:only-of-type {\n",
       "        vertical-align: middle;\n",
       "    }\n",
       "\n",
       "    .dataframe tbody tr th {\n",
       "        vertical-align: top;\n",
       "    }\n",
       "\n",
       "    .dataframe thead th {\n",
       "        text-align: right;\n",
       "    }\n",
       "</style>\n",
       "<table border=\"1\" class=\"dataframe\">\n",
       "  <thead>\n",
       "    <tr style=\"text-align: right;\">\n",
       "      <th></th>\n",
       "      <th></th>\n",
       "      <th>Yield (kg/ha)</th>\n",
       "      <th>Urban:Rural</th>\n",
       "      <th>total_population</th>\n",
       "      <th>employed_in_ag</th>\n",
       "      <th>percent_employed_in_ag</th>\n",
       "      <th>val_added_percent_GDP</th>\n",
       "      <th>val_added_mil_USD</th>\n",
       "    </tr>\n",
       "    <tr>\n",
       "      <th>Area</th>\n",
       "      <th>Year</th>\n",
       "      <th></th>\n",
       "      <th></th>\n",
       "      <th></th>\n",
       "      <th></th>\n",
       "      <th></th>\n",
       "      <th></th>\n",
       "      <th></th>\n",
       "    </tr>\n",
       "  </thead>\n",
       "  <tbody>\n",
       "    <tr>\n",
       "      <th rowspan=\"5\" valign=\"top\">China</th>\n",
       "      <th>1991</th>\n",
       "      <td>1.861246e+08</td>\n",
       "      <td>0.395760</td>\n",
       "      <td>1215910.174</td>\n",
       "      <td>384642.48</td>\n",
       "      <td>58.74</td>\n",
       "      <td>24.275184</td>\n",
       "      <td>100347.679346</td>\n",
       "    </tr>\n",
       "    <tr>\n",
       "      <th>1992</th>\n",
       "      <td>1.882919e+08</td>\n",
       "      <td>0.412968</td>\n",
       "      <td>1231002.333</td>\n",
       "      <td>381288.61</td>\n",
       "      <td>57.56</td>\n",
       "      <td>21.571274</td>\n",
       "      <td>106375.963164</td>\n",
       "    </tr>\n",
       "    <tr>\n",
       "      <th>1993</th>\n",
       "      <td>1.797469e+08</td>\n",
       "      <td>0.430909</td>\n",
       "      <td>1244385.717</td>\n",
       "      <td>370289.34</td>\n",
       "      <td>55.49</td>\n",
       "      <td>19.519695</td>\n",
       "      <td>120849.537556</td>\n",
       "    </tr>\n",
       "    <tr>\n",
       "      <th>1994</th>\n",
       "      <td>1.779944e+08</td>\n",
       "      <td>0.449703</td>\n",
       "      <td>1256499.031</td>\n",
       "      <td>359708.83</td>\n",
       "      <td>53.42</td>\n",
       "      <td>19.680493</td>\n",
       "      <td>111061.443301</td>\n",
       "    </tr>\n",
       "    <tr>\n",
       "      <th>1995</th>\n",
       "      <td>1.872980e+08</td>\n",
       "      <td>0.469363</td>\n",
       "      <td>1267694.303</td>\n",
       "      <td>349563.17</td>\n",
       "      <td>51.36</td>\n",
       "      <td>19.783371</td>\n",
       "      <td>145305.886227</td>\n",
       "    </tr>\n",
       "    <tr>\n",
       "      <th>...</th>\n",
       "      <th>...</th>\n",
       "      <td>...</td>\n",
       "      <td>...</td>\n",
       "      <td>...</td>\n",
       "      <td>...</td>\n",
       "      <td>...</td>\n",
       "      <td>...</td>\n",
       "      <td>...</td>\n",
       "    </tr>\n",
       "    <tr>\n",
       "      <th rowspan=\"5\" valign=\"top\">Vietnam</th>\n",
       "      <th>2018</th>\n",
       "      <td>4.404625e+07</td>\n",
       "      <td>0.560533</td>\n",
       "      <td>96491.146</td>\n",
       "      <td>20599.35</td>\n",
       "      <td>37.70</td>\n",
       "      <td>12.306668</td>\n",
       "      <td>38163.776079</td>\n",
       "    </tr>\n",
       "    <tr>\n",
       "      <th>2019</th>\n",
       "      <td>4.349549e+07</td>\n",
       "      <td>0.577995</td>\n",
       "      <td>97429.061</td>\n",
       "      <td>19057.42</td>\n",
       "      <td>34.70</td>\n",
       "      <td>11.784529</td>\n",
       "      <td>39403.370777</td>\n",
       "    </tr>\n",
       "    <tr>\n",
       "      <th>2020</th>\n",
       "      <td>4.276500e+07</td>\n",
       "      <td>0.595903</td>\n",
       "      <td>98360.145</td>\n",
       "      <td>17480.94</td>\n",
       "      <td>32.60</td>\n",
       "      <td>12.655404</td>\n",
       "      <td>43865.620543</td>\n",
       "    </tr>\n",
       "    <tr>\n",
       "      <th>2021</th>\n",
       "      <td>4.385273e+07</td>\n",
       "      <td>0.614264</td>\n",
       "      <td>99284.146</td>\n",
       "      <td>15604.10</td>\n",
       "      <td>29.00</td>\n",
       "      <td>12.603090</td>\n",
       "      <td>46187.144625</td>\n",
       "    </tr>\n",
       "    <tr>\n",
       "      <th>2022</th>\n",
       "      <td>4.266080e+07</td>\n",
       "      <td>0.633081</td>\n",
       "      <td>100194.727</td>\n",
       "      <td>18428.42</td>\n",
       "      <td>33.60</td>\n",
       "      <td>11.955529</td>\n",
       "      <td>49056.408936</td>\n",
       "    </tr>\n",
       "  </tbody>\n",
       "</table>\n",
       "<p>224 rows × 7 columns</p>\n",
       "</div>"
      ],
      "text/plain": [
       "              Yield (kg/ha)  Urban:Rural  total_population  employed_in_ag  \\\n",
       "Area    Year                                                                 \n",
       "China   1991   1.861246e+08     0.395760       1215910.174       384642.48   \n",
       "        1992   1.882919e+08     0.412968       1231002.333       381288.61   \n",
       "        1993   1.797469e+08     0.430909       1244385.717       370289.34   \n",
       "        1994   1.779944e+08     0.449703       1256499.031       359708.83   \n",
       "        1995   1.872980e+08     0.469363       1267694.303       349563.17   \n",
       "...                     ...          ...               ...             ...   \n",
       "Vietnam 2018   4.404625e+07     0.560533         96491.146        20599.35   \n",
       "        2019   4.349549e+07     0.577995         97429.061        19057.42   \n",
       "        2020   4.276500e+07     0.595903         98360.145        17480.94   \n",
       "        2021   4.385273e+07     0.614264         99284.146        15604.10   \n",
       "        2022   4.266080e+07     0.633081        100194.727        18428.42   \n",
       "\n",
       "              percent_employed_in_ag  val_added_percent_GDP  val_added_mil_USD  \n",
       "Area    Year                                                                    \n",
       "China   1991                   58.74              24.275184      100347.679346  \n",
       "        1992                   57.56              21.571274      106375.963164  \n",
       "        1993                   55.49              19.519695      120849.537556  \n",
       "        1994                   53.42              19.680493      111061.443301  \n",
       "        1995                   51.36              19.783371      145305.886227  \n",
       "...                              ...                    ...                ...  \n",
       "Vietnam 2018                   37.70              12.306668       38163.776079  \n",
       "        2019                   34.70              11.784529       39403.370777  \n",
       "        2020                   32.60              12.655404       43865.620543  \n",
       "        2021                   29.00              12.603090       46187.144625  \n",
       "        2022                   33.60              11.955529       49056.408936  \n",
       "\n",
       "[224 rows x 7 columns]"
      ]
     },
     "execution_count": 944,
     "metadata": {},
     "output_type": "execute_result"
    }
   ],
   "source": [
    "df"
   ]
  },
  {
   "cell_type": "markdown",
   "id": "58ddabbe-36c3-433e-be4e-674a95a7e362",
   "metadata": {},
   "source": [
    "### Add urban and rural population as columns to see correlation matrix values."
   ]
  },
  {
   "cell_type": "code",
   "execution_count": 947,
   "id": "d204042c-4199-4822-a176-11afd668eba0",
   "metadata": {},
   "outputs": [
    {
     "data": {
      "text/html": [
       "<div>\n",
       "<style scoped>\n",
       "    .dataframe tbody tr th:only-of-type {\n",
       "        vertical-align: middle;\n",
       "    }\n",
       "\n",
       "    .dataframe tbody tr th {\n",
       "        vertical-align: top;\n",
       "    }\n",
       "\n",
       "    .dataframe thead th {\n",
       "        text-align: right;\n",
       "    }\n",
       "</style>\n",
       "<table border=\"1\" class=\"dataframe\">\n",
       "  <thead>\n",
       "    <tr style=\"text-align: right;\">\n",
       "      <th></th>\n",
       "      <th></th>\n",
       "      <th>Urban</th>\n",
       "      <th>Rural</th>\n",
       "    </tr>\n",
       "    <tr>\n",
       "      <th>Area</th>\n",
       "      <th>Year</th>\n",
       "      <th></th>\n",
       "      <th></th>\n",
       "    </tr>\n",
       "  </thead>\n",
       "  <tbody>\n",
       "    <tr>\n",
       "      <th rowspan=\"5\" valign=\"top\">China</th>\n",
       "      <th>1980</th>\n",
       "      <td>205754.823</td>\n",
       "      <td>810993.444</td>\n",
       "    </tr>\n",
       "    <tr>\n",
       "      <th>1981</th>\n",
       "      <td>216741.822</td>\n",
       "      <td>814531.684</td>\n",
       "    </tr>\n",
       "    <tr>\n",
       "      <th>1982</th>\n",
       "      <td>228199.645</td>\n",
       "      <td>817712.036</td>\n",
       "    </tr>\n",
       "    <tr>\n",
       "      <th>1983</th>\n",
       "      <td>238557.736</td>\n",
       "      <td>822595.313</td>\n",
       "    </tr>\n",
       "    <tr>\n",
       "      <th>1984</th>\n",
       "      <td>249540.591</td>\n",
       "      <td>828062.325</td>\n",
       "    </tr>\n",
       "    <tr>\n",
       "      <th>...</th>\n",
       "      <th>...</th>\n",
       "      <td>...</td>\n",
       "      <td>...</td>\n",
       "    </tr>\n",
       "    <tr>\n",
       "      <th rowspan=\"5\" valign=\"top\">Vietnam</th>\n",
       "      <th>2019</th>\n",
       "      <td>35686.730</td>\n",
       "      <td>61742.331</td>\n",
       "    </tr>\n",
       "    <tr>\n",
       "      <th>2020</th>\n",
       "      <td>36727.248</td>\n",
       "      <td>61632.897</td>\n",
       "    </tr>\n",
       "    <tr>\n",
       "      <th>2021</th>\n",
       "      <td>37779.862</td>\n",
       "      <td>61504.284</td>\n",
       "    </tr>\n",
       "    <tr>\n",
       "      <th>2022</th>\n",
       "      <td>38841.525</td>\n",
       "      <td>61353.202</td>\n",
       "    </tr>\n",
       "    <tr>\n",
       "      <th>2023</th>\n",
       "      <td>39908.501</td>\n",
       "      <td>61175.828</td>\n",
       "    </tr>\n",
       "  </tbody>\n",
       "</table>\n",
       "<p>308 rows × 2 columns</p>\n",
       "</div>"
      ],
      "text/plain": [
       "                   Urban       Rural\n",
       "Area    Year                        \n",
       "China   1980  205754.823  810993.444\n",
       "        1981  216741.822  814531.684\n",
       "        1982  228199.645  817712.036\n",
       "        1983  238557.736  822595.313\n",
       "        1984  249540.591  828062.325\n",
       "...                  ...         ...\n",
       "Vietnam 2019   35686.730   61742.331\n",
       "        2020   36727.248   61632.897\n",
       "        2021   37779.862   61504.284\n",
       "        2022   38841.525   61353.202\n",
       "        2023   39908.501   61175.828\n",
       "\n",
       "[308 rows x 2 columns]"
      ]
     },
     "execution_count": 947,
     "metadata": {},
     "output_type": "execute_result"
    }
   ],
   "source": [
    "df_urb_rur = rural_urban_df.set_index([\"Area\",\"Year\"])\n",
    "df_urb_rur = df_urb_rur[[\"Urban\", \"Rural\"]]\n",
    "df_urb_rur"
   ]
  },
  {
   "cell_type": "code",
   "execution_count": 949,
   "id": "fc9c2816-1467-4a84-b038-43a0f495f2f7",
   "metadata": {},
   "outputs": [],
   "source": [
    "df = pd.merge(df,df_urb_rur,on=[\"Area\",\"Year\"])"
   ]
  },
  {
   "cell_type": "markdown",
   "id": "8426a93a-b0ad-4d41-ae9d-f4fb17dd0ab4",
   "metadata": {},
   "source": [
    "### Add area harvested as a column"
   ]
  },
  {
   "cell_type": "code",
   "execution_count": 952,
   "id": "76a7ef7a-ebe4-4167-be43-3d20b1a376d1",
   "metadata": {},
   "outputs": [],
   "source": [
    "temp_df= data_df[data_df[\"Element\"] == \"Area harvested\"] #area harvested data\n",
    "temp_df = temp_df.set_index([\"Area\",\"Year\"])           #multi index\n",
    "temp_df = temp_df[[\"Value\"]]\n",
    "temp_df.rename(columns={\"Value\": \"Area harvested (ha)\"},inplace=True) #rename column\n",
    "df = pd.merge(df,temp_df,on=[\"Area\",\"Year\"]) #merge with df"
   ]
  },
  {
   "cell_type": "markdown",
   "id": "a78b6a06-235a-4245-949e-f39301d4f1bb",
   "metadata": {},
   "source": [
    "### Add area harvested proportional to country surface area as column"
   ]
  },
  {
   "cell_type": "code",
   "execution_count": 955,
   "id": "8df877de-b2a5-466c-87f3-6da9c606fcc6",
   "metadata": {},
   "outputs": [],
   "source": [
    "def obtainHarvestedProp(country):\n",
    "\n",
    "    if country not in land_area_df[\"Entity\"].values:\n",
    "        print(f\"invalid country name: {country} not found in the land_area_df as an entity.\")\n",
    "        return\n",
    "    \n",
    "    #scalar land area value for country\n",
    "    country_land_area = land_area_df[land_area_df[\"Entity\"]==country][\"land_area\"].values[0]\n",
    "\n",
    "    #ratio for country\n",
    "    if country not in data_df[\"Area\"].values:\n",
    "        print(f\"country name '{country}' was not found in the data_df 'Area' values. Ensure consistent naming across dataframes.\")\n",
    "        return\n",
    "        \n",
    "    harvested_prop = df.loc[country][\"Area harvested (ha)\"] / country_land_area\n",
    "    return harvested_prop\n"
   ]
  },
  {
   "cell_type": "code",
   "execution_count": 957,
   "id": "20ba55c1-643b-41a3-a8a4-e8e89d3f18af",
   "metadata": {},
   "outputs": [],
   "source": [
    "#add col with data for each country. use .values to insert values\n",
    "for country in data_df.Area.unique():\n",
    "    df.loc[(country,), \"area_harvested_prop\"] = obtainHarvestedProp(country).values\n"
   ]
  },
  {
   "cell_type": "code",
   "execution_count": 959,
   "id": "f7af6ab8-12be-48dd-b3d0-7a9433d43ebc",
   "metadata": {},
   "outputs": [
    {
     "data": {
      "text/html": [
       "<div>\n",
       "<style scoped>\n",
       "    .dataframe tbody tr th:only-of-type {\n",
       "        vertical-align: middle;\n",
       "    }\n",
       "\n",
       "    .dataframe tbody tr th {\n",
       "        vertical-align: top;\n",
       "    }\n",
       "\n",
       "    .dataframe thead th {\n",
       "        text-align: right;\n",
       "    }\n",
       "</style>\n",
       "<table border=\"1\" class=\"dataframe\">\n",
       "  <thead>\n",
       "    <tr style=\"text-align: right;\">\n",
       "      <th></th>\n",
       "      <th></th>\n",
       "      <th>Yield (kg/ha)</th>\n",
       "      <th>Urban:Rural</th>\n",
       "      <th>total_population</th>\n",
       "      <th>employed_in_ag</th>\n",
       "      <th>percent_employed_in_ag</th>\n",
       "      <th>val_added_percent_GDP</th>\n",
       "      <th>val_added_mil_USD</th>\n",
       "      <th>Urban</th>\n",
       "      <th>Rural</th>\n",
       "      <th>Area harvested (ha)</th>\n",
       "      <th>area_harvested_prop</th>\n",
       "    </tr>\n",
       "    <tr>\n",
       "      <th>Area</th>\n",
       "      <th>Year</th>\n",
       "      <th></th>\n",
       "      <th></th>\n",
       "      <th></th>\n",
       "      <th></th>\n",
       "      <th></th>\n",
       "      <th></th>\n",
       "      <th></th>\n",
       "      <th></th>\n",
       "      <th></th>\n",
       "      <th></th>\n",
       "      <th></th>\n",
       "    </tr>\n",
       "  </thead>\n",
       "  <tbody>\n",
       "    <tr>\n",
       "      <th rowspan=\"5\" valign=\"top\">China</th>\n",
       "      <th>1991</th>\n",
       "      <td>1.861246e+08</td>\n",
       "      <td>0.395760</td>\n",
       "      <td>1215910.174</td>\n",
       "      <td>384642.48</td>\n",
       "      <td>58.74</td>\n",
       "      <td>24.275184</td>\n",
       "      <td>100347.679346</td>\n",
       "      <td>344764.634</td>\n",
       "      <td>871145.540</td>\n",
       "      <td>33018802.0</td>\n",
       "      <td>0.035170</td>\n",
       "    </tr>\n",
       "    <tr>\n",
       "      <th>1992</th>\n",
       "      <td>1.882919e+08</td>\n",
       "      <td>0.412968</td>\n",
       "      <td>1231002.333</td>\n",
       "      <td>381288.61</td>\n",
       "      <td>57.56</td>\n",
       "      <td>21.571274</td>\n",
       "      <td>106375.963164</td>\n",
       "      <td>359784.753</td>\n",
       "      <td>871217.580</td>\n",
       "      <td>32487358.0</td>\n",
       "      <td>0.034604</td>\n",
       "    </tr>\n",
       "    <tr>\n",
       "      <th>1993</th>\n",
       "      <td>1.797469e+08</td>\n",
       "      <td>0.430909</td>\n",
       "      <td>1244385.717</td>\n",
       "      <td>370289.34</td>\n",
       "      <td>55.49</td>\n",
       "      <td>19.519695</td>\n",
       "      <td>120849.537556</td>\n",
       "      <td>374738.726</td>\n",
       "      <td>869646.991</td>\n",
       "      <td>30745927.0</td>\n",
       "      <td>0.032750</td>\n",
       "    </tr>\n",
       "    <tr>\n",
       "      <th>1994</th>\n",
       "      <td>1.779944e+08</td>\n",
       "      <td>0.449703</td>\n",
       "      <td>1256499.031</td>\n",
       "      <td>359708.83</td>\n",
       "      <td>53.42</td>\n",
       "      <td>19.680493</td>\n",
       "      <td>111061.443301</td>\n",
       "      <td>389770.206</td>\n",
       "      <td>866728.825</td>\n",
       "      <td>30537237.0</td>\n",
       "      <td>0.032527</td>\n",
       "    </tr>\n",
       "    <tr>\n",
       "      <th>1995</th>\n",
       "      <td>1.872980e+08</td>\n",
       "      <td>0.469363</td>\n",
       "      <td>1267694.303</td>\n",
       "      <td>349563.17</td>\n",
       "      <td>51.36</td>\n",
       "      <td>19.783371</td>\n",
       "      <td>145305.886227</td>\n",
       "      <td>404943.424</td>\n",
       "      <td>862750.879</td>\n",
       "      <td>31107479.0</td>\n",
       "      <td>0.033135</td>\n",
       "    </tr>\n",
       "    <tr>\n",
       "      <th>...</th>\n",
       "      <th>...</th>\n",
       "      <td>...</td>\n",
       "      <td>...</td>\n",
       "      <td>...</td>\n",
       "      <td>...</td>\n",
       "      <td>...</td>\n",
       "      <td>...</td>\n",
       "      <td>...</td>\n",
       "      <td>...</td>\n",
       "      <td>...</td>\n",
       "      <td>...</td>\n",
       "      <td>...</td>\n",
       "    </tr>\n",
       "    <tr>\n",
       "      <th rowspan=\"5\" valign=\"top\">Vietnam</th>\n",
       "      <th>2018</th>\n",
       "      <td>4.404625e+07</td>\n",
       "      <td>0.560533</td>\n",
       "      <td>96491.146</td>\n",
       "      <td>20599.35</td>\n",
       "      <td>37.70</td>\n",
       "      <td>12.306668</td>\n",
       "      <td>38163.776079</td>\n",
       "      <td>34658.961</td>\n",
       "      <td>61832.185</td>\n",
       "      <td>7570741.0</td>\n",
       "      <td>0.241546</td>\n",
       "    </tr>\n",
       "    <tr>\n",
       "      <th>2019</th>\n",
       "      <td>4.349549e+07</td>\n",
       "      <td>0.577995</td>\n",
       "      <td>97429.061</td>\n",
       "      <td>19057.42</td>\n",
       "      <td>34.70</td>\n",
       "      <td>11.784529</td>\n",
       "      <td>39403.370777</td>\n",
       "      <td>35686.730</td>\n",
       "      <td>61742.331</td>\n",
       "      <td>7451544.0</td>\n",
       "      <td>0.237743</td>\n",
       "    </tr>\n",
       "    <tr>\n",
       "      <th>2020</th>\n",
       "      <td>4.276500e+07</td>\n",
       "      <td>0.595903</td>\n",
       "      <td>98360.145</td>\n",
       "      <td>17480.94</td>\n",
       "      <td>32.60</td>\n",
       "      <td>12.655404</td>\n",
       "      <td>43865.620543</td>\n",
       "      <td>36727.248</td>\n",
       "      <td>61632.897</td>\n",
       "      <td>7222403.0</td>\n",
       "      <td>0.230432</td>\n",
       "    </tr>\n",
       "    <tr>\n",
       "      <th>2021</th>\n",
       "      <td>4.385273e+07</td>\n",
       "      <td>0.614264</td>\n",
       "      <td>99284.146</td>\n",
       "      <td>15604.10</td>\n",
       "      <td>29.00</td>\n",
       "      <td>12.603090</td>\n",
       "      <td>46187.144625</td>\n",
       "      <td>37779.862</td>\n",
       "      <td>61504.284</td>\n",
       "      <td>7219797.0</td>\n",
       "      <td>0.230349</td>\n",
       "    </tr>\n",
       "    <tr>\n",
       "      <th>2022</th>\n",
       "      <td>4.266080e+07</td>\n",
       "      <td>0.633081</td>\n",
       "      <td>100194.727</td>\n",
       "      <td>18428.42</td>\n",
       "      <td>33.60</td>\n",
       "      <td>11.955529</td>\n",
       "      <td>49056.408936</td>\n",
       "      <td>38841.525</td>\n",
       "      <td>61353.202</td>\n",
       "      <td>7088853.0</td>\n",
       "      <td>0.226171</td>\n",
       "    </tr>\n",
       "  </tbody>\n",
       "</table>\n",
       "<p>224 rows × 11 columns</p>\n",
       "</div>"
      ],
      "text/plain": [
       "              Yield (kg/ha)  Urban:Rural  total_population  employed_in_ag  \\\n",
       "Area    Year                                                                 \n",
       "China   1991   1.861246e+08     0.395760       1215910.174       384642.48   \n",
       "        1992   1.882919e+08     0.412968       1231002.333       381288.61   \n",
       "        1993   1.797469e+08     0.430909       1244385.717       370289.34   \n",
       "        1994   1.779944e+08     0.449703       1256499.031       359708.83   \n",
       "        1995   1.872980e+08     0.469363       1267694.303       349563.17   \n",
       "...                     ...          ...               ...             ...   \n",
       "Vietnam 2018   4.404625e+07     0.560533         96491.146        20599.35   \n",
       "        2019   4.349549e+07     0.577995         97429.061        19057.42   \n",
       "        2020   4.276500e+07     0.595903         98360.145        17480.94   \n",
       "        2021   4.385273e+07     0.614264         99284.146        15604.10   \n",
       "        2022   4.266080e+07     0.633081        100194.727        18428.42   \n",
       "\n",
       "              percent_employed_in_ag  val_added_percent_GDP  \\\n",
       "Area    Year                                                  \n",
       "China   1991                   58.74              24.275184   \n",
       "        1992                   57.56              21.571274   \n",
       "        1993                   55.49              19.519695   \n",
       "        1994                   53.42              19.680493   \n",
       "        1995                   51.36              19.783371   \n",
       "...                              ...                    ...   \n",
       "Vietnam 2018                   37.70              12.306668   \n",
       "        2019                   34.70              11.784529   \n",
       "        2020                   32.60              12.655404   \n",
       "        2021                   29.00              12.603090   \n",
       "        2022                   33.60              11.955529   \n",
       "\n",
       "              val_added_mil_USD       Urban       Rural  Area harvested (ha)  \\\n",
       "Area    Year                                                                   \n",
       "China   1991      100347.679346  344764.634  871145.540           33018802.0   \n",
       "        1992      106375.963164  359784.753  871217.580           32487358.0   \n",
       "        1993      120849.537556  374738.726  869646.991           30745927.0   \n",
       "        1994      111061.443301  389770.206  866728.825           30537237.0   \n",
       "        1995      145305.886227  404943.424  862750.879           31107479.0   \n",
       "...                         ...         ...         ...                  ...   \n",
       "Vietnam 2018       38163.776079   34658.961   61832.185            7570741.0   \n",
       "        2019       39403.370777   35686.730   61742.331            7451544.0   \n",
       "        2020       43865.620543   36727.248   61632.897            7222403.0   \n",
       "        2021       46187.144625   37779.862   61504.284            7219797.0   \n",
       "        2022       49056.408936   38841.525   61353.202            7088853.0   \n",
       "\n",
       "              area_harvested_prop  \n",
       "Area    Year                       \n",
       "China   1991             0.035170  \n",
       "        1992             0.034604  \n",
       "        1993             0.032750  \n",
       "        1994             0.032527  \n",
       "        1995             0.033135  \n",
       "...                           ...  \n",
       "Vietnam 2018             0.241546  \n",
       "        2019             0.237743  \n",
       "        2020             0.230432  \n",
       "        2021             0.230349  \n",
       "        2022             0.226171  \n",
       "\n",
       "[224 rows x 11 columns]"
      ]
     },
     "execution_count": 959,
     "metadata": {},
     "output_type": "execute_result"
    }
   ],
   "source": [
    "df"
   ]
  },
  {
   "cell_type": "markdown",
   "id": "371f08a7-dca1-4aa4-9759-b4bf7f3cad77",
   "metadata": {},
   "source": [
    "## Merging of data completed. Prepared for analysis"
   ]
  },
  {
   "cell_type": "code",
   "execution_count": 962,
   "id": "0eb614f2-f03e-4496-b8c2-769c2bd12f0e",
   "metadata": {},
   "outputs": [
    {
     "data": {
      "text/html": [
       "<div>\n",
       "<style scoped>\n",
       "    .dataframe tbody tr th:only-of-type {\n",
       "        vertical-align: middle;\n",
       "    }\n",
       "\n",
       "    .dataframe tbody tr th {\n",
       "        vertical-align: top;\n",
       "    }\n",
       "\n",
       "    .dataframe thead th {\n",
       "        text-align: right;\n",
       "    }\n",
       "</style>\n",
       "<table border=\"1\" class=\"dataframe\">\n",
       "  <thead>\n",
       "    <tr style=\"text-align: right;\">\n",
       "      <th></th>\n",
       "      <th>Yield (kg/ha)</th>\n",
       "      <th>Urban:Rural</th>\n",
       "      <th>total_population</th>\n",
       "      <th>employed_in_ag</th>\n",
       "      <th>percent_employed_in_ag</th>\n",
       "      <th>val_added_percent_GDP</th>\n",
       "      <th>val_added_mil_USD</th>\n",
       "      <th>Urban</th>\n",
       "      <th>Rural</th>\n",
       "      <th>Area harvested (ha)</th>\n",
       "      <th>area_harvested_prop</th>\n",
       "    </tr>\n",
       "  </thead>\n",
       "  <tbody>\n",
       "    <tr>\n",
       "      <th>Yield (kg/ha)</th>\n",
       "      <td>1.000000</td>\n",
       "      <td>-0.302202</td>\n",
       "      <td>0.982135</td>\n",
       "      <td>0.935987</td>\n",
       "      <td>0.131885</td>\n",
       "      <td>-0.089382</td>\n",
       "      <td>0.769904</td>\n",
       "      <td>0.947352</td>\n",
       "      <td>0.934365</td>\n",
       "      <td>0.881013</td>\n",
       "      <td>-0.388983</td>\n",
       "    </tr>\n",
       "    <tr>\n",
       "      <th>Urban:Rural</th>\n",
       "      <td>-0.302202</td>\n",
       "      <td>1.000000</td>\n",
       "      <td>-0.223118</td>\n",
       "      <td>-0.272798</td>\n",
       "      <td>-0.886968</td>\n",
       "      <td>-0.531324</td>\n",
       "      <td>-0.023933</td>\n",
       "      <td>-0.111055</td>\n",
       "      <td>-0.284988</td>\n",
       "      <td>-0.399429</td>\n",
       "      <td>-0.267043</td>\n",
       "    </tr>\n",
       "    <tr>\n",
       "      <th>total_population</th>\n",
       "      <td>0.982135</td>\n",
       "      <td>-0.223118</td>\n",
       "      <td>1.000000</td>\n",
       "      <td>0.944732</td>\n",
       "      <td>0.099783</td>\n",
       "      <td>-0.099699</td>\n",
       "      <td>0.738171</td>\n",
       "      <td>0.937700</td>\n",
       "      <td>0.970132</td>\n",
       "      <td>0.916180</td>\n",
       "      <td>-0.395098</td>\n",
       "    </tr>\n",
       "    <tr>\n",
       "      <th>employed_in_ag</th>\n",
       "      <td>0.935987</td>\n",
       "      <td>-0.272798</td>\n",
       "      <td>0.944732</td>\n",
       "      <td>1.000000</td>\n",
       "      <td>0.196778</td>\n",
       "      <td>-0.044688</td>\n",
       "      <td>0.541193</td>\n",
       "      <td>0.833284</td>\n",
       "      <td>0.953232</td>\n",
       "      <td>0.853427</td>\n",
       "      <td>-0.404198</td>\n",
       "    </tr>\n",
       "    <tr>\n",
       "      <th>percent_employed_in_ag</th>\n",
       "      <td>0.131885</td>\n",
       "      <td>-0.886968</td>\n",
       "      <td>0.099783</td>\n",
       "      <td>0.196778</td>\n",
       "      <td>1.000000</td>\n",
       "      <td>0.720599</td>\n",
       "      <td>-0.182023</td>\n",
       "      <td>-0.060449</td>\n",
       "      <td>0.204333</td>\n",
       "      <td>0.296230</td>\n",
       "      <td>0.279728</td>\n",
       "    </tr>\n",
       "    <tr>\n",
       "      <th>val_added_percent_GDP</th>\n",
       "      <td>-0.089382</td>\n",
       "      <td>-0.531324</td>\n",
       "      <td>-0.099699</td>\n",
       "      <td>-0.044688</td>\n",
       "      <td>0.720599</td>\n",
       "      <td>1.000000</td>\n",
       "      <td>-0.199935</td>\n",
       "      <td>-0.181757</td>\n",
       "      <td>-0.035093</td>\n",
       "      <td>0.006052</td>\n",
       "      <td>0.012009</td>\n",
       "    </tr>\n",
       "    <tr>\n",
       "      <th>val_added_mil_USD</th>\n",
       "      <td>0.769904</td>\n",
       "      <td>-0.023933</td>\n",
       "      <td>0.738171</td>\n",
       "      <td>0.541193</td>\n",
       "      <td>-0.182023</td>\n",
       "      <td>-0.199935</td>\n",
       "      <td>1.000000</td>\n",
       "      <td>0.905838</td>\n",
       "      <td>0.566954</td>\n",
       "      <td>0.547805</td>\n",
       "      <td>-0.381345</td>\n",
       "    </tr>\n",
       "    <tr>\n",
       "      <th>Urban</th>\n",
       "      <td>0.947352</td>\n",
       "      <td>-0.111055</td>\n",
       "      <td>0.937700</td>\n",
       "      <td>0.833284</td>\n",
       "      <td>-0.060449</td>\n",
       "      <td>-0.181757</td>\n",
       "      <td>0.905838</td>\n",
       "      <td>1.000000</td>\n",
       "      <td>0.825409</td>\n",
       "      <td>0.760467</td>\n",
       "      <td>-0.481506</td>\n",
       "    </tr>\n",
       "    <tr>\n",
       "      <th>Rural</th>\n",
       "      <td>0.934365</td>\n",
       "      <td>-0.284988</td>\n",
       "      <td>0.970132</td>\n",
       "      <td>0.953232</td>\n",
       "      <td>0.204333</td>\n",
       "      <td>-0.035093</td>\n",
       "      <td>0.566954</td>\n",
       "      <td>0.825409</td>\n",
       "      <td>1.000000</td>\n",
       "      <td>0.957680</td>\n",
       "      <td>-0.305783</td>\n",
       "    </tr>\n",
       "    <tr>\n",
       "      <th>Area harvested (ha)</th>\n",
       "      <td>0.881013</td>\n",
       "      <td>-0.399429</td>\n",
       "      <td>0.916180</td>\n",
       "      <td>0.853427</td>\n",
       "      <td>0.296230</td>\n",
       "      <td>0.006052</td>\n",
       "      <td>0.547805</td>\n",
       "      <td>0.760467</td>\n",
       "      <td>0.957680</td>\n",
       "      <td>1.000000</td>\n",
       "      <td>-0.160552</td>\n",
       "    </tr>\n",
       "    <tr>\n",
       "      <th>area_harvested_prop</th>\n",
       "      <td>-0.388983</td>\n",
       "      <td>-0.267043</td>\n",
       "      <td>-0.395098</td>\n",
       "      <td>-0.404198</td>\n",
       "      <td>0.279728</td>\n",
       "      <td>0.012009</td>\n",
       "      <td>-0.381345</td>\n",
       "      <td>-0.481506</td>\n",
       "      <td>-0.305783</td>\n",
       "      <td>-0.160552</td>\n",
       "      <td>1.000000</td>\n",
       "    </tr>\n",
       "  </tbody>\n",
       "</table>\n",
       "</div>"
      ],
      "text/plain": [
       "                        Yield (kg/ha)  Urban:Rural  total_population  \\\n",
       "Yield (kg/ha)                1.000000    -0.302202          0.982135   \n",
       "Urban:Rural                 -0.302202     1.000000         -0.223118   \n",
       "total_population             0.982135    -0.223118          1.000000   \n",
       "employed_in_ag               0.935987    -0.272798          0.944732   \n",
       "percent_employed_in_ag       0.131885    -0.886968          0.099783   \n",
       "val_added_percent_GDP       -0.089382    -0.531324         -0.099699   \n",
       "val_added_mil_USD            0.769904    -0.023933          0.738171   \n",
       "Urban                        0.947352    -0.111055          0.937700   \n",
       "Rural                        0.934365    -0.284988          0.970132   \n",
       "Area harvested (ha)          0.881013    -0.399429          0.916180   \n",
       "area_harvested_prop         -0.388983    -0.267043         -0.395098   \n",
       "\n",
       "                        employed_in_ag  percent_employed_in_ag  \\\n",
       "Yield (kg/ha)                 0.935987                0.131885   \n",
       "Urban:Rural                  -0.272798               -0.886968   \n",
       "total_population              0.944732                0.099783   \n",
       "employed_in_ag                1.000000                0.196778   \n",
       "percent_employed_in_ag        0.196778                1.000000   \n",
       "val_added_percent_GDP        -0.044688                0.720599   \n",
       "val_added_mil_USD             0.541193               -0.182023   \n",
       "Urban                         0.833284               -0.060449   \n",
       "Rural                         0.953232                0.204333   \n",
       "Area harvested (ha)           0.853427                0.296230   \n",
       "area_harvested_prop          -0.404198                0.279728   \n",
       "\n",
       "                        val_added_percent_GDP  val_added_mil_USD     Urban  \\\n",
       "Yield (kg/ha)                       -0.089382           0.769904  0.947352   \n",
       "Urban:Rural                         -0.531324          -0.023933 -0.111055   \n",
       "total_population                    -0.099699           0.738171  0.937700   \n",
       "employed_in_ag                      -0.044688           0.541193  0.833284   \n",
       "percent_employed_in_ag               0.720599          -0.182023 -0.060449   \n",
       "val_added_percent_GDP                1.000000          -0.199935 -0.181757   \n",
       "val_added_mil_USD                   -0.199935           1.000000  0.905838   \n",
       "Urban                               -0.181757           0.905838  1.000000   \n",
       "Rural                               -0.035093           0.566954  0.825409   \n",
       "Area harvested (ha)                  0.006052           0.547805  0.760467   \n",
       "area_harvested_prop                  0.012009          -0.381345 -0.481506   \n",
       "\n",
       "                           Rural  Area harvested (ha)  area_harvested_prop  \n",
       "Yield (kg/ha)           0.934365             0.881013            -0.388983  \n",
       "Urban:Rural            -0.284988            -0.399429            -0.267043  \n",
       "total_population        0.970132             0.916180            -0.395098  \n",
       "employed_in_ag          0.953232             0.853427            -0.404198  \n",
       "percent_employed_in_ag  0.204333             0.296230             0.279728  \n",
       "val_added_percent_GDP  -0.035093             0.006052             0.012009  \n",
       "val_added_mil_USD       0.566954             0.547805            -0.381345  \n",
       "Urban                   0.825409             0.760467            -0.481506  \n",
       "Rural                   1.000000             0.957680            -0.305783  \n",
       "Area harvested (ha)     0.957680             1.000000            -0.160552  \n",
       "area_harvested_prop    -0.305783            -0.160552             1.000000  "
      ]
     },
     "execution_count": 962,
     "metadata": {},
     "output_type": "execute_result"
    }
   ],
   "source": [
    "#look at correlation in general (over all countries, all years). \n",
    "df.corr()"
   ]
  },
  {
   "cell_type": "code",
   "execution_count": 168,
   "id": "d3855cc7-e5f1-4f98-8c05-a8e28b932524",
   "metadata": {},
   "outputs": [],
   "source": [
    "#import other graphing libraries\n",
    "import plotly.express as px\n",
    "import plotly.graph_objects as go"
   ]
  },
  {
   "cell_type": "code",
   "execution_count": 189,
   "id": "e1716c80-7081-4e5b-8c00-1375c57a8565",
   "metadata": {},
   "outputs": [],
   "source": [
    "df_reset = df.reset_index()"
   ]
  },
  {
   "cell_type": "markdown",
   "id": "1f6a8f01-8c69-438d-bbdf-cf389637ffdf",
   "metadata": {},
   "source": [
    "## Dash app"
   ]
  },
  {
   "cell_type": "code",
   "execution_count": 47,
   "id": "9ec2eccc-d2b0-40c9-9ecb-1a73b1fe2d58",
   "metadata": {},
   "outputs": [],
   "source": [
    "units = yield_df[\"Unit\"].unique()[0]\n",
    "\n",
    "fig = px.line(yield_df, x = \"Year\", y=\"Value\", color=\"Area\",title=\"Rice Yield Trends Over Time\",\n",
    "                labels={\"Value\": f\"Yield ({units})\",\"Area\":\"Country\"})"
   ]
  },
  {
   "cell_type": "code",
   "execution_count": 49,
   "id": "d99de4c6-fe00-428f-bd54-9b7ffb5d9884",
   "metadata": {},
   "outputs": [
    {
     "data": {
      "application/vnd.plotly.v1+json": {
       "config": {
        "plotlyServerURL": "https://plot.ly"
       },
       "data": [
        {
         "hovertemplate": "Country=China<br>Year=%{x}<br>Yield (kg/ha)=%{y}<extra></extra>",
         "legendgroup": "China",
         "line": {
          "color": "#636efa",
          "dash": "solid"
         },
         "marker": {
          "symbol": "circle"
         },
         "mode": "lines",
         "name": "China",
         "orientation": "v",
         "showlegend": true,
         "type": "scatter",
         "x": [
          1980,
          1981,
          1982,
          1983,
          1984,
          1985,
          1986,
          1987,
          1988,
          1989,
          1990,
          1991,
          1992,
          1993,
          1994,
          1995,
          1996,
          1997,
          1998,
          1999,
          2000,
          2001,
          2002,
          2003,
          2004,
          2005,
          2006,
          2007,
          2008,
          2009,
          2010,
          2011,
          2012,
          2013,
          2014,
          2015,
          2016,
          2017,
          2018,
          2019,
          2020,
          2021,
          2022,
          2023
         ],
         "xaxis": "x",
         "y": [
          4143.5,
          4331.5,
          4888.8,
          5091.8,
          5363.4,
          5249.8,
          5327.2,
          5403.5,
          5281.9,
          5500.5,
          5716.6,
          5636.9,
          5795.9,
          5846.2,
          5828.8,
          6021,
          6205,
          6311.1,
          6352.9,
          6334.4,
          6264.2,
          6152.4,
          6185.6,
          6060.6,
          6308.4,
          6252.7,
          6276.4,
          6422.4,
          6555.8,
          6582,
          6548.2,
          6686.2,
          6774.7,
          6710,
          6809.5,
          6886.3,
          6856.3,
          6912.2,
          7028,
          7056.2,
          7040.2,
          7112.4,
          7075.7,
          7132.5
         ],
         "yaxis": "y"
        },
        {
         "hovertemplate": "Country=India<br>Year=%{x}<br>Yield (kg/ha)=%{y}<extra></extra>",
         "legendgroup": "India",
         "line": {
          "color": "#EF553B",
          "dash": "solid"
         },
         "marker": {
          "symbol": "circle"
         },
         "mode": "lines",
         "name": "India",
         "orientation": "v",
         "showlegend": true,
         "type": "scatter",
         "x": [
          1980,
          1981,
          1982,
          1983,
          1984,
          1985,
          1986,
          1987,
          1988,
          1989,
          1990,
          1991,
          1992,
          1993,
          1994,
          1995,
          1996,
          1997,
          1998,
          1999,
          2000,
          2001,
          2002,
          2003,
          2004,
          2005,
          2006,
          2007,
          2008,
          2009,
          2010,
          2011,
          2012,
          2013,
          2014,
          2015,
          2016,
          2017,
          2018,
          2019,
          2020,
          2021,
          2022,
          2023
         ],
         "xaxis": "x",
         "y": [
          2000.2,
          1962.3,
          1849.7,
          2183.3,
          2127.2,
          2329.2,
          2205.2,
          2199.1,
          2548.6,
          2616,
          2612.5,
          2627.1,
          2609.2,
          2830.3,
          2864.5,
          2697.2,
          2822.6,
          2845.7,
          2880.5,
          2978.2,
          2850.8,
          3115.8,
          2616.3,
          3117.7,
          2975.6,
          3153.7,
          3175.9,
          3292.4,
          3250.9,
          3236.6,
          3358.7,
          3587.8,
          3690.9,
          3624.3,
          3586.8,
          3600.2,
          3740.1,
          3863.7,
          3956.7,
          4083.6,
          4075.7,
          4196.2,
          4257.1,
          4322.3
         ],
         "yaxis": "y"
        },
        {
         "hovertemplate": "Country=Indonesia<br>Year=%{x}<br>Yield (kg/ha)=%{y}<extra></extra>",
         "legendgroup": "Indonesia",
         "line": {
          "color": "#00cc96",
          "dash": "solid"
         },
         "marker": {
          "symbol": "circle"
         },
         "mode": "lines",
         "name": "Indonesia",
         "orientation": "v",
         "showlegend": true,
         "type": "scatter",
         "x": [
          1980,
          1981,
          1982,
          1983,
          1984,
          1985,
          1986,
          1987,
          1988,
          1989,
          1990,
          1991,
          1992,
          1993,
          1994,
          1995,
          1996,
          1997,
          1998,
          1999,
          2000,
          2001,
          2002,
          2003,
          2004,
          2005,
          2006,
          2007,
          2008,
          2009,
          2010,
          2011,
          2012,
          2013,
          2014,
          2015,
          2016,
          2017,
          2018,
          2019,
          2020,
          2021,
          2022,
          2023
         ],
         "xaxis": "x",
         "y": [
          3292.8,
          3493.4,
          3736.3,
          3853,
          3906,
          3941.8,
          3977.3,
          4039.1,
          4110.8,
          4247,
          4301.8,
          4346.5,
          4344.6,
          4375,
          4345.3,
          4348.7,
          4416.8,
          4432.2,
          4197.4,
          4251.9,
          4400.7,
          4387.9,
          4469.1,
          4542.6,
          4536.5,
          4573.9,
          4620.1,
          4646.8,
          4916.5,
          5010.5,
          5025.3,
          4999.5,
          5151,
          5166.8,
          5147.7,
          5358.8,
          5097.3,
          5069,
          5203.1,
          5113.7,
          5127.9,
          5226.3,
          5237.8,
          5285.2
         ],
         "yaxis": "y"
        },
        {
         "hovertemplate": "Country=Myanmar<br>Year=%{x}<br>Yield (kg/ha)=%{y}<extra></extra>",
         "legendgroup": "Myanmar",
         "line": {
          "color": "#ab63fa",
          "dash": "solid"
         },
         "marker": {
          "symbol": "circle"
         },
         "mode": "lines",
         "name": "Myanmar",
         "orientation": "v",
         "showlegend": true,
         "type": "scatter",
         "x": [
          1980,
          1981,
          1982,
          1983,
          1984,
          1985,
          1986,
          1987,
          1988,
          1989,
          1990,
          1991,
          1992,
          1993,
          1994,
          1995,
          1996,
          1997,
          1998,
          1999,
          2000,
          2001,
          2002,
          2003,
          2004,
          2005,
          2006,
          2007,
          2008,
          2009,
          2010,
          2011,
          2012,
          2013,
          2014,
          2015,
          2016,
          2017,
          2018,
          2019,
          2020,
          2021,
          2022,
          2023
         ],
         "xaxis": "x",
         "y": [
          2773.9,
          2941.9,
          3150.5,
          3066.6,
          3098.1,
          3071.8,
          3027.9,
          3042.4,
          2908.4,
          2917.4,
          2935.3,
          2885.7,
          2934.1,
          3054.1,
          3168.2,
          2975.9,
          3064.2,
          3079.3,
          3128.4,
          3240.3,
          3383.2,
          3417.9,
          3419.4,
          3544,
          3635.6,
          3749.6,
          3830,
          3926,
          4032.3,
          4055.8,
          4066.4,
          3833.8,
          3811.5,
          3853.8,
          3908.4,
          3933.9,
          3879.4,
          3859.7,
          3918.7,
          3856.6,
          3865.2,
          3895.7,
          3946.7,
          3968.3
         ],
         "yaxis": "y"
        },
        {
         "hovertemplate": "Country=Republic of Korea<br>Year=%{x}<br>Yield (kg/ha)=%{y}<extra></extra>",
         "legendgroup": "Republic of Korea",
         "line": {
          "color": "#FFA15A",
          "dash": "solid"
         },
         "marker": {
          "symbol": "circle"
         },
         "mode": "lines",
         "name": "Republic of Korea",
         "orientation": "v",
         "showlegend": true,
         "type": "scatter",
         "x": [
          1980,
          1981,
          1982,
          1983,
          1984,
          1985,
          1986,
          1987,
          1988,
          1989,
          1990,
          1991,
          1992,
          1993,
          1994,
          1995,
          1996,
          1997,
          1998,
          1999,
          2000,
          2001,
          2002,
          2003,
          2004,
          2005,
          2006,
          2007,
          2008,
          2009,
          2010,
          2011,
          2012,
          2013,
          2014,
          2015,
          2016,
          2017,
          2018,
          2019,
          2020,
          2021,
          2022,
          2023
         ],
         "xaxis": "x",
         "y": [
          4307.6,
          5841,
          6151,
          6192.6,
          6475.4,
          6351.4,
          6368.8,
          6017.3,
          6555,
          6445.6,
          6205.7,
          6034.6,
          6272.8,
          5638.1,
          6190.9,
          6050.7,
          6786.6,
          6950.7,
          6412.3,
          6627.2,
          6711,
          6838.1,
          6349.5,
          6054.2,
          6729.1,
          6568.2,
          6601,
          6273.6,
          6912.3,
          7033.5,
          6513.8,
          6577.4,
          6365.2,
          6763.8,
          6913.1,
          7219.7,
          7222.8,
          7003.4,
          7043,
          6873.1,
          6488.1,
          7114.3,
          6874.6,
          6917.7
         ],
         "yaxis": "y"
        },
        {
         "hovertemplate": "Country=Thailand<br>Year=%{x}<br>Yield (kg/ha)=%{y}<extra></extra>",
         "legendgroup": "Thailand",
         "line": {
          "color": "#19d3f3",
          "dash": "solid"
         },
         "marker": {
          "symbol": "circle"
         },
         "mode": "lines",
         "name": "Thailand",
         "orientation": "v",
         "showlegend": true,
         "type": "scatter",
         "x": [
          1980,
          1981,
          1982,
          1983,
          1984,
          1985,
          1986,
          1987,
          1988,
          1989,
          1990,
          1991,
          1992,
          1993,
          1994,
          1995,
          1996,
          1997,
          1998,
          1999,
          2000,
          2001,
          2002,
          2003,
          2004,
          2005,
          2006,
          2007,
          2008,
          2009,
          2010,
          2011,
          2012,
          2013,
          2014,
          2015,
          2016,
          2017,
          2018,
          2019,
          2020,
          2021,
          2022,
          2023
         ],
         "xaxis": "x",
         "y": [
          1887.8,
          1952.1,
          1888,
          2035.1,
          2067,
          2060.8,
          2052.2,
          2014.7,
          2146.5,
          2085.3,
          1955.6,
          2253.4,
          2174.5,
          2049.7,
          2352.1,
          2415.8,
          2409.8,
          2378.8,
          2418,
          2424.4,
          2612.8,
          2873.9,
          2933.8,
          2933.9,
          2889.5,
          2997.4,
          2950.3,
          3044.1,
          2997.4,
          2907.9,
          2992.1,
          3186.7,
          3186.5,
          3146.3,
          3058.6,
          2850.6,
          2974,
          3069,
          3038,
          2916.4,
          2899.7,
          2953.8,
          2999.5,
          2955.6
         ],
         "yaxis": "y"
        },
        {
         "hovertemplate": "Country=Viet Nam<br>Year=%{x}<br>Yield (kg/ha)=%{y}<extra></extra>",
         "legendgroup": "Viet Nam",
         "line": {
          "color": "#FF6692",
          "dash": "solid"
         },
         "marker": {
          "symbol": "circle"
         },
         "mode": "lines",
         "name": "Viet Nam",
         "orientation": "v",
         "showlegend": true,
         "type": "scatter",
         "x": [
          1980,
          1981,
          1982,
          1983,
          1984,
          1985,
          1986,
          1987,
          1988,
          1989,
          1990,
          1991,
          1992,
          1993,
          1994,
          1995,
          1996,
          1997,
          1998,
          1999,
          2000,
          2001,
          2002,
          2003,
          2004,
          2005,
          2006,
          2007,
          2008,
          2009,
          2010,
          2011,
          2012,
          2013,
          2014,
          2015,
          2016,
          2017,
          2018,
          2019,
          2020,
          2021,
          2022,
          2023
         ],
         "xaxis": "x",
         "y": [
          2079.8,
          2196.6,
          2519.4,
          2627.2,
          2732.3,
          2776.1,
          2806,
          2695.4,
          2961.3,
          3213.6,
          3181.5,
          3113.3,
          3334.2,
          3481.5,
          3565.7,
          3689.8,
          3768.9,
          3876.8,
          4000.7,
          4101.8,
          4243.2,
          4285.3,
          4590.3,
          4638.7,
          4855.3,
          4889.1,
          4894.3,
          4986.9,
          5233.6,
          5237.2,
          5341.6,
          5538.3,
          5635.3,
          5572.6,
          5753.8,
          5759.7,
          5573.8,
          5547.6,
          5818,
          5837.1,
          5921.2,
          6074,
          6018,
          6113.5
         ],
         "yaxis": "y"
        }
       ],
       "layout": {
        "autosize": true,
        "legend": {
         "title": {
          "text": "Country"
         },
         "tracegroupgap": 0
        },
        "template": {
         "data": {
          "bar": [
           {
            "error_x": {
             "color": "#2a3f5f"
            },
            "error_y": {
             "color": "#2a3f5f"
            },
            "marker": {
             "line": {
              "color": "#E5ECF6",
              "width": 0.5
             },
             "pattern": {
              "fillmode": "overlay",
              "size": 10,
              "solidity": 0.2
             }
            },
            "type": "bar"
           }
          ],
          "barpolar": [
           {
            "marker": {
             "line": {
              "color": "#E5ECF6",
              "width": 0.5
             },
             "pattern": {
              "fillmode": "overlay",
              "size": 10,
              "solidity": 0.2
             }
            },
            "type": "barpolar"
           }
          ],
          "carpet": [
           {
            "aaxis": {
             "endlinecolor": "#2a3f5f",
             "gridcolor": "white",
             "linecolor": "white",
             "minorgridcolor": "white",
             "startlinecolor": "#2a3f5f"
            },
            "baxis": {
             "endlinecolor": "#2a3f5f",
             "gridcolor": "white",
             "linecolor": "white",
             "minorgridcolor": "white",
             "startlinecolor": "#2a3f5f"
            },
            "type": "carpet"
           }
          ],
          "choropleth": [
           {
            "colorbar": {
             "outlinewidth": 0,
             "ticks": ""
            },
            "type": "choropleth"
           }
          ],
          "contour": [
           {
            "colorbar": {
             "outlinewidth": 0,
             "ticks": ""
            },
            "colorscale": [
             [
              0,
              "#0d0887"
             ],
             [
              0.1111111111111111,
              "#46039f"
             ],
             [
              0.2222222222222222,
              "#7201a8"
             ],
             [
              0.3333333333333333,
              "#9c179e"
             ],
             [
              0.4444444444444444,
              "#bd3786"
             ],
             [
              0.5555555555555556,
              "#d8576b"
             ],
             [
              0.6666666666666666,
              "#ed7953"
             ],
             [
              0.7777777777777778,
              "#fb9f3a"
             ],
             [
              0.8888888888888888,
              "#fdca26"
             ],
             [
              1,
              "#f0f921"
             ]
            ],
            "type": "contour"
           }
          ],
          "contourcarpet": [
           {
            "colorbar": {
             "outlinewidth": 0,
             "ticks": ""
            },
            "type": "contourcarpet"
           }
          ],
          "heatmap": [
           {
            "colorbar": {
             "outlinewidth": 0,
             "ticks": ""
            },
            "colorscale": [
             [
              0,
              "#0d0887"
             ],
             [
              0.1111111111111111,
              "#46039f"
             ],
             [
              0.2222222222222222,
              "#7201a8"
             ],
             [
              0.3333333333333333,
              "#9c179e"
             ],
             [
              0.4444444444444444,
              "#bd3786"
             ],
             [
              0.5555555555555556,
              "#d8576b"
             ],
             [
              0.6666666666666666,
              "#ed7953"
             ],
             [
              0.7777777777777778,
              "#fb9f3a"
             ],
             [
              0.8888888888888888,
              "#fdca26"
             ],
             [
              1,
              "#f0f921"
             ]
            ],
            "type": "heatmap"
           }
          ],
          "heatmapgl": [
           {
            "colorbar": {
             "outlinewidth": 0,
             "ticks": ""
            },
            "colorscale": [
             [
              0,
              "#0d0887"
             ],
             [
              0.1111111111111111,
              "#46039f"
             ],
             [
              0.2222222222222222,
              "#7201a8"
             ],
             [
              0.3333333333333333,
              "#9c179e"
             ],
             [
              0.4444444444444444,
              "#bd3786"
             ],
             [
              0.5555555555555556,
              "#d8576b"
             ],
             [
              0.6666666666666666,
              "#ed7953"
             ],
             [
              0.7777777777777778,
              "#fb9f3a"
             ],
             [
              0.8888888888888888,
              "#fdca26"
             ],
             [
              1,
              "#f0f921"
             ]
            ],
            "type": "heatmapgl"
           }
          ],
          "histogram": [
           {
            "marker": {
             "pattern": {
              "fillmode": "overlay",
              "size": 10,
              "solidity": 0.2
             }
            },
            "type": "histogram"
           }
          ],
          "histogram2d": [
           {
            "colorbar": {
             "outlinewidth": 0,
             "ticks": ""
            },
            "colorscale": [
             [
              0,
              "#0d0887"
             ],
             [
              0.1111111111111111,
              "#46039f"
             ],
             [
              0.2222222222222222,
              "#7201a8"
             ],
             [
              0.3333333333333333,
              "#9c179e"
             ],
             [
              0.4444444444444444,
              "#bd3786"
             ],
             [
              0.5555555555555556,
              "#d8576b"
             ],
             [
              0.6666666666666666,
              "#ed7953"
             ],
             [
              0.7777777777777778,
              "#fb9f3a"
             ],
             [
              0.8888888888888888,
              "#fdca26"
             ],
             [
              1,
              "#f0f921"
             ]
            ],
            "type": "histogram2d"
           }
          ],
          "histogram2dcontour": [
           {
            "colorbar": {
             "outlinewidth": 0,
             "ticks": ""
            },
            "colorscale": [
             [
              0,
              "#0d0887"
             ],
             [
              0.1111111111111111,
              "#46039f"
             ],
             [
              0.2222222222222222,
              "#7201a8"
             ],
             [
              0.3333333333333333,
              "#9c179e"
             ],
             [
              0.4444444444444444,
              "#bd3786"
             ],
             [
              0.5555555555555556,
              "#d8576b"
             ],
             [
              0.6666666666666666,
              "#ed7953"
             ],
             [
              0.7777777777777778,
              "#fb9f3a"
             ],
             [
              0.8888888888888888,
              "#fdca26"
             ],
             [
              1,
              "#f0f921"
             ]
            ],
            "type": "histogram2dcontour"
           }
          ],
          "mesh3d": [
           {
            "colorbar": {
             "outlinewidth": 0,
             "ticks": ""
            },
            "type": "mesh3d"
           }
          ],
          "parcoords": [
           {
            "line": {
             "colorbar": {
              "outlinewidth": 0,
              "ticks": ""
             }
            },
            "type": "parcoords"
           }
          ],
          "pie": [
           {
            "automargin": true,
            "type": "pie"
           }
          ],
          "scatter": [
           {
            "fillpattern": {
             "fillmode": "overlay",
             "size": 10,
             "solidity": 0.2
            },
            "type": "scatter"
           }
          ],
          "scatter3d": [
           {
            "line": {
             "colorbar": {
              "outlinewidth": 0,
              "ticks": ""
             }
            },
            "marker": {
             "colorbar": {
              "outlinewidth": 0,
              "ticks": ""
             }
            },
            "type": "scatter3d"
           }
          ],
          "scattercarpet": [
           {
            "marker": {
             "colorbar": {
              "outlinewidth": 0,
              "ticks": ""
             }
            },
            "type": "scattercarpet"
           }
          ],
          "scattergeo": [
           {
            "marker": {
             "colorbar": {
              "outlinewidth": 0,
              "ticks": ""
             }
            },
            "type": "scattergeo"
           }
          ],
          "scattergl": [
           {
            "marker": {
             "colorbar": {
              "outlinewidth": 0,
              "ticks": ""
             }
            },
            "type": "scattergl"
           }
          ],
          "scattermapbox": [
           {
            "marker": {
             "colorbar": {
              "outlinewidth": 0,
              "ticks": ""
             }
            },
            "type": "scattermapbox"
           }
          ],
          "scatterpolar": [
           {
            "marker": {
             "colorbar": {
              "outlinewidth": 0,
              "ticks": ""
             }
            },
            "type": "scatterpolar"
           }
          ],
          "scatterpolargl": [
           {
            "marker": {
             "colorbar": {
              "outlinewidth": 0,
              "ticks": ""
             }
            },
            "type": "scatterpolargl"
           }
          ],
          "scatterternary": [
           {
            "marker": {
             "colorbar": {
              "outlinewidth": 0,
              "ticks": ""
             }
            },
            "type": "scatterternary"
           }
          ],
          "surface": [
           {
            "colorbar": {
             "outlinewidth": 0,
             "ticks": ""
            },
            "colorscale": [
             [
              0,
              "#0d0887"
             ],
             [
              0.1111111111111111,
              "#46039f"
             ],
             [
              0.2222222222222222,
              "#7201a8"
             ],
             [
              0.3333333333333333,
              "#9c179e"
             ],
             [
              0.4444444444444444,
              "#bd3786"
             ],
             [
              0.5555555555555556,
              "#d8576b"
             ],
             [
              0.6666666666666666,
              "#ed7953"
             ],
             [
              0.7777777777777778,
              "#fb9f3a"
             ],
             [
              0.8888888888888888,
              "#fdca26"
             ],
             [
              1,
              "#f0f921"
             ]
            ],
            "type": "surface"
           }
          ],
          "table": [
           {
            "cells": {
             "fill": {
              "color": "#EBF0F8"
             },
             "line": {
              "color": "white"
             }
            },
            "header": {
             "fill": {
              "color": "#C8D4E3"
             },
             "line": {
              "color": "white"
             }
            },
            "type": "table"
           }
          ]
         },
         "layout": {
          "annotationdefaults": {
           "arrowcolor": "#2a3f5f",
           "arrowhead": 0,
           "arrowwidth": 1
          },
          "autotypenumbers": "strict",
          "coloraxis": {
           "colorbar": {
            "outlinewidth": 0,
            "ticks": ""
           }
          },
          "colorscale": {
           "diverging": [
            [
             0,
             "#8e0152"
            ],
            [
             0.1,
             "#c51b7d"
            ],
            [
             0.2,
             "#de77ae"
            ],
            [
             0.3,
             "#f1b6da"
            ],
            [
             0.4,
             "#fde0ef"
            ],
            [
             0.5,
             "#f7f7f7"
            ],
            [
             0.6,
             "#e6f5d0"
            ],
            [
             0.7,
             "#b8e186"
            ],
            [
             0.8,
             "#7fbc41"
            ],
            [
             0.9,
             "#4d9221"
            ],
            [
             1,
             "#276419"
            ]
           ],
           "sequential": [
            [
             0,
             "#0d0887"
            ],
            [
             0.1111111111111111,
             "#46039f"
            ],
            [
             0.2222222222222222,
             "#7201a8"
            ],
            [
             0.3333333333333333,
             "#9c179e"
            ],
            [
             0.4444444444444444,
             "#bd3786"
            ],
            [
             0.5555555555555556,
             "#d8576b"
            ],
            [
             0.6666666666666666,
             "#ed7953"
            ],
            [
             0.7777777777777778,
             "#fb9f3a"
            ],
            [
             0.8888888888888888,
             "#fdca26"
            ],
            [
             1,
             "#f0f921"
            ]
           ],
           "sequentialminus": [
            [
             0,
             "#0d0887"
            ],
            [
             0.1111111111111111,
             "#46039f"
            ],
            [
             0.2222222222222222,
             "#7201a8"
            ],
            [
             0.3333333333333333,
             "#9c179e"
            ],
            [
             0.4444444444444444,
             "#bd3786"
            ],
            [
             0.5555555555555556,
             "#d8576b"
            ],
            [
             0.6666666666666666,
             "#ed7953"
            ],
            [
             0.7777777777777778,
             "#fb9f3a"
            ],
            [
             0.8888888888888888,
             "#fdca26"
            ],
            [
             1,
             "#f0f921"
            ]
           ]
          },
          "colorway": [
           "#636efa",
           "#EF553B",
           "#00cc96",
           "#ab63fa",
           "#FFA15A",
           "#19d3f3",
           "#FF6692",
           "#B6E880",
           "#FF97FF",
           "#FECB52"
          ],
          "font": {
           "color": "#2a3f5f"
          },
          "geo": {
           "bgcolor": "white",
           "lakecolor": "white",
           "landcolor": "#E5ECF6",
           "showlakes": true,
           "showland": true,
           "subunitcolor": "white"
          },
          "hoverlabel": {
           "align": "left"
          },
          "hovermode": "closest",
          "mapbox": {
           "style": "light"
          },
          "paper_bgcolor": "white",
          "plot_bgcolor": "#E5ECF6",
          "polar": {
           "angularaxis": {
            "gridcolor": "white",
            "linecolor": "white",
            "ticks": ""
           },
           "bgcolor": "#E5ECF6",
           "radialaxis": {
            "gridcolor": "white",
            "linecolor": "white",
            "ticks": ""
           }
          },
          "scene": {
           "xaxis": {
            "backgroundcolor": "#E5ECF6",
            "gridcolor": "white",
            "gridwidth": 2,
            "linecolor": "white",
            "showbackground": true,
            "ticks": "",
            "zerolinecolor": "white"
           },
           "yaxis": {
            "backgroundcolor": "#E5ECF6",
            "gridcolor": "white",
            "gridwidth": 2,
            "linecolor": "white",
            "showbackground": true,
            "ticks": "",
            "zerolinecolor": "white"
           },
           "zaxis": {
            "backgroundcolor": "#E5ECF6",
            "gridcolor": "white",
            "gridwidth": 2,
            "linecolor": "white",
            "showbackground": true,
            "ticks": "",
            "zerolinecolor": "white"
           }
          },
          "shapedefaults": {
           "line": {
            "color": "#2a3f5f"
           }
          },
          "ternary": {
           "aaxis": {
            "gridcolor": "white",
            "linecolor": "white",
            "ticks": ""
           },
           "baxis": {
            "gridcolor": "white",
            "linecolor": "white",
            "ticks": ""
           },
           "bgcolor": "#E5ECF6",
           "caxis": {
            "gridcolor": "white",
            "linecolor": "white",
            "ticks": ""
           }
          },
          "title": {
           "x": 0.05
          },
          "xaxis": {
           "automargin": true,
           "gridcolor": "white",
           "linecolor": "white",
           "ticks": "",
           "title": {
            "standoff": 15
           },
           "zerolinecolor": "white",
           "zerolinewidth": 2
          },
          "yaxis": {
           "automargin": true,
           "gridcolor": "white",
           "linecolor": "white",
           "ticks": "",
           "title": {
            "standoff": 15
           },
           "zerolinecolor": "white",
           "zerolinewidth": 2
          }
         }
        },
        "title": {
         "text": "Rice Yield Trends Over Time"
        },
        "xaxis": {
         "anchor": "y",
         "autorange": true,
         "domain": [
          0,
          1
         ],
         "range": [
          1980,
          2023
         ],
         "title": {
          "text": "Year"
         },
         "type": "linear"
        },
        "yaxis": {
         "anchor": "x",
         "autorange": true,
         "domain": [
          0,
          1
         ],
         "range": [
          1551.1944444444443,
          7521.305555555556
         ],
         "title": {
          "text": "Yield (kg/ha)"
         },
         "type": "linear"
        }
       }
      },
      "image/png": "[encoded data removed]",
      "text/html": [
       "<div>                            <div id=\"6ce6c89e-7d2d-4be2-a73a-29b69ace6f5c\" class=\"plotly-graph-div\" style=\"height:525px; width:100%;\"></div>            <script type=\"text/javascript\">                require([\"plotly\"], function(Plotly) {                    window.PLOTLYENV=window.PLOTLYENV || {};                                    if (document.getElementById(\"6ce6c89e-7d2d-4be2-a73a-29b69ace6f5c\")) {                    Plotly.newPlot(                        \"6ce6c89e-7d2d-4be2-a73a-29b69ace6f5c\",                        [{\"hovertemplate\":\"Country=China\\u003cbr\\u003eYear=%{x}\\u003cbr\\u003eYield (kg\\u002fha)=%{y}\\u003cextra\\u003e\\u003c\\u002fextra\\u003e\",\"legendgroup\":\"China\",\"line\":{\"color\":\"#636efa\",\"dash\":\"solid\"},\"marker\":{\"symbol\":\"circle\"},\"mode\":\"lines\",\"name\":\"China\",\"orientation\":\"v\",\"showlegend\":true,\"x\":[1980,1981,1982,1983,1984,1985,1986,1987,1988,1989,1990,1991,1992,1993,1994,1995,1996,1997,1998,1999,2000,2001,2002,2003,2004,2005,2006,2007,2008,2009,2010,2011,2012,2013,2014,2015,2016,2017,2018,2019,2020,2021,2022,2023],\"xaxis\":\"x\",\"y\":[4143.5,4331.5,4888.8,5091.8,5363.4,5249.8,5327.2,5403.5,5281.9,5500.5,5716.6,5636.9,5795.9,5846.2,5828.8,6021.0,6205.0,6311.1,6352.9,6334.4,6264.2,6152.4,6185.6,6060.6,6308.4,6252.7,6276.4,6422.4,6555.8,6582.0,6548.2,6686.2,6774.7,6710.0,6809.5,6886.3,6856.3,6912.2,7028.0,7056.2,7040.2,7112.4,7075.7,7132.5],\"yaxis\":\"y\",\"type\":\"scatter\"},{\"hovertemplate\":\"Country=India\\u003cbr\\u003eYear=%{x}\\u003cbr\\u003eYield (kg\\u002fha)=%{y}\\u003cextra\\u003e\\u003c\\u002fextra\\u003e\",\"legendgroup\":\"India\",\"line\":{\"color\":\"#EF553B\",\"dash\":\"solid\"},\"marker\":{\"symbol\":\"circle\"},\"mode\":\"lines\",\"name\":\"India\",\"orientation\":\"v\",\"showlegend\":true,\"x\":[1980,1981,1982,1983,1984,1985,1986,1987,1988,1989,1990,1991,1992,1993,1994,1995,1996,1997,1998,1999,2000,2001,2002,2003,2004,2005,2006,2007,2008,2009,2010,2011,2012,2013,2014,2015,2016,2017,2018,2019,2020,2021,2022,2023],\"xaxis\":\"x\",\"y\":[2000.2,1962.3,1849.7,2183.3,2127.2,2329.2,2205.2,2199.1,2548.6,2616.0,2612.5,2627.1,2609.2,2830.3,2864.5,2697.2,2822.6,2845.7,2880.5,2978.2,2850.8,3115.8,2616.3,3117.7,2975.6,3153.7,3175.9,3292.4,3250.9,3236.6,3358.7,3587.8,3690.9,3624.3,3586.8,3600.2,3740.1,3863.7,3956.7,4083.6,4075.7,4196.2,4257.1,4322.3],\"yaxis\":\"y\",\"type\":\"scatter\"},{\"hovertemplate\":\"Country=Indonesia\\u003cbr\\u003eYear=%{x}\\u003cbr\\u003eYield (kg\\u002fha)=%{y}\\u003cextra\\u003e\\u003c\\u002fextra\\u003e\",\"legendgroup\":\"Indonesia\",\"line\":{\"color\":\"#00cc96\",\"dash\":\"solid\"},\"marker\":{\"symbol\":\"circle\"},\"mode\":\"lines\",\"name\":\"Indonesia\",\"orientation\":\"v\",\"showlegend\":true,\"x\":[1980,1981,1982,1983,1984,1985,1986,1987,1988,1989,1990,1991,1992,1993,1994,1995,1996,1997,1998,1999,2000,2001,2002,2003,2004,2005,2006,2007,2008,2009,2010,2011,2012,2013,2014,2015,2016,2017,2018,2019,2020,2021,2022,2023],\"xaxis\":\"x\",\"y\":[3292.8,3493.4,3736.3,3853.0,3906.0,3941.8,3977.3,4039.1,4110.8,4247.0,4301.8,4346.5,4344.6,4375.0,4345.3,4348.7,4416.8,4432.2,4197.4,4251.9,4400.7,4387.9,4469.1,4542.6,4536.5,4573.9,4620.1,4646.8,4916.5,5010.5,5025.3,4999.5,5151.0,5166.8,5147.7,5358.8,5097.3,5069.0,5203.1,5113.7,5127.9,5226.3,5237.8,5285.2],\"yaxis\":\"y\",\"type\":\"scatter\"},{\"hovertemplate\":\"Country=Myanmar\\u003cbr\\u003eYear=%{x}\\u003cbr\\u003eYield (kg\\u002fha)=%{y}\\u003cextra\\u003e\\u003c\\u002fextra\\u003e\",\"legendgroup\":\"Myanmar\",\"line\":{\"color\":\"#ab63fa\",\"dash\":\"solid\"},\"marker\":{\"symbol\":\"circle\"},\"mode\":\"lines\",\"name\":\"Myanmar\",\"orientation\":\"v\",\"showlegend\":true,\"x\":[1980,1981,1982,1983,1984,1985,1986,1987,1988,1989,1990,1991,1992,1993,1994,1995,1996,1997,1998,1999,2000,2001,2002,2003,2004,2005,2006,2007,2008,2009,2010,2011,2012,2013,2014,2015,2016,2017,2018,2019,2020,2021,2022,2023],\"xaxis\":\"x\",\"y\":[2773.9,2941.9,3150.5,3066.6,3098.1,3071.8,3027.9,3042.4,2908.4,2917.4,2935.3,2885.7,2934.1,3054.1,3168.2,2975.9,3064.2,3079.3,3128.4,3240.3,3383.2,3417.9,3419.4,3544.0,3635.6,3749.6,3830.0,3926.0,4032.3,4055.8,4066.4,3833.8,3811.5,3853.8,3908.4,3933.9,3879.4,3859.7,3918.7,3856.6,3865.2,3895.7,3946.7,3968.3],\"yaxis\":\"y\",\"type\":\"scatter\"},{\"hovertemplate\":\"Country=Republic of Korea\\u003cbr\\u003eYear=%{x}\\u003cbr\\u003eYield (kg\\u002fha)=%{y}\\u003cextra\\u003e\\u003c\\u002fextra\\u003e\",\"legendgroup\":\"Republic of Korea\",\"line\":{\"color\":\"#FFA15A\",\"dash\":\"solid\"},\"marker\":{\"symbol\":\"circle\"},\"mode\":\"lines\",\"name\":\"Republic of Korea\",\"orientation\":\"v\",\"showlegend\":true,\"x\":[1980,1981,1982,1983,1984,1985,1986,1987,1988,1989,1990,1991,1992,1993,1994,1995,1996,1997,1998,1999,2000,2001,2002,2003,2004,2005,2006,2007,2008,2009,2010,2011,2012,2013,2014,2015,2016,2017,2018,2019,2020,2021,2022,2023],\"xaxis\":\"x\",\"y\":[4307.6,5841.0,6151.0,6192.6,6475.4,6351.4,6368.8,6017.3,6555.0,6445.6,6205.7,6034.6,6272.8,5638.1,6190.9,6050.7,6786.6,6950.7,6412.3,6627.2,6711.0,6838.1,6349.5,6054.2,6729.1,6568.2,6601.0,6273.6,6912.3,7033.5,6513.8,6577.4,6365.2,6763.8,6913.1,7219.7,7222.8,7003.4,7043.0,6873.1,6488.1,7114.3,6874.6,6917.7],\"yaxis\":\"y\",\"type\":\"scatter\"},{\"hovertemplate\":\"Country=Thailand\\u003cbr\\u003eYear=%{x}\\u003cbr\\u003eYield (kg\\u002fha)=%{y}\\u003cextra\\u003e\\u003c\\u002fextra\\u003e\",\"legendgroup\":\"Thailand\",\"line\":{\"color\":\"#19d3f3\",\"dash\":\"solid\"},\"marker\":{\"symbol\":\"circle\"},\"mode\":\"lines\",\"name\":\"Thailand\",\"orientation\":\"v\",\"showlegend\":true,\"x\":[1980,1981,1982,1983,1984,1985,1986,1987,1988,1989,1990,1991,1992,1993,1994,1995,1996,1997,1998,1999,2000,2001,2002,2003,2004,2005,2006,2007,2008,2009,2010,2011,2012,2013,2014,2015,2016,2017,2018,2019,2020,2021,2022,2023],\"xaxis\":\"x\",\"y\":[1887.8,1952.1,1888.0,2035.1,2067.0,2060.8,2052.2,2014.7,2146.5,2085.3,1955.6,2253.4,2174.5,2049.7,2352.1,2415.8,2409.8,2378.8,2418.0,2424.4,2612.8,2873.9,2933.8,2933.9,2889.5,2997.4,2950.3,3044.1,2997.4,2907.9,2992.1,3186.7,3186.5,3146.3,3058.6,2850.6,2974.0,3069.0,3038.0,2916.4,2899.7,2953.8,2999.5,2955.6],\"yaxis\":\"y\",\"type\":\"scatter\"},{\"hovertemplate\":\"Country=Viet Nam\\u003cbr\\u003eYear=%{x}\\u003cbr\\u003eYield (kg\\u002fha)=%{y}\\u003cextra\\u003e\\u003c\\u002fextra\\u003e\",\"legendgroup\":\"Viet Nam\",\"line\":{\"color\":\"#FF6692\",\"dash\":\"solid\"},\"marker\":{\"symbol\":\"circle\"},\"mode\":\"lines\",\"name\":\"Viet Nam\",\"orientation\":\"v\",\"showlegend\":true,\"x\":[1980,1981,1982,1983,1984,1985,1986,1987,1988,1989,1990,1991,1992,1993,1994,1995,1996,1997,1998,1999,2000,2001,2002,2003,2004,2005,2006,2007,2008,2009,2010,2011,2012,2013,2014,2015,2016,2017,2018,2019,2020,2021,2022,2023],\"xaxis\":\"x\",\"y\":[2079.8,2196.6,2519.4,2627.2,2732.3,2776.1,2806.0,2695.4,2961.3,3213.6,3181.5,3113.3,3334.2,3481.5,3565.7,3689.8,3768.9,3876.8,4000.7,4101.8,4243.2,4285.3,4590.3,4638.7,4855.3,4889.1,4894.3,4986.9,5233.6,5237.2,5341.6,5538.3,5635.3,5572.6,5753.8,5759.7,5573.8,5547.6,5818.0,5837.1,5921.2,6074.0,6018.0,6113.5],\"yaxis\":\"y\",\"type\":\"scatter\"}],                        {\"template\":{\"data\":{\"histogram2dcontour\":[{\"type\":\"histogram2dcontour\",\"colorbar\":{\"outlinewidth\":0,\"ticks\":\"\"},\"colorscale\":[[0.0,\"#0d0887\"],[0.1111111111111111,\"#46039f\"],[0.2222222222222222,\"#7201a8\"],[0.3333333333333333,\"#9c179e\"],[0.4444444444444444,\"#bd3786\"],[0.5555555555555556,\"#d8576b\"],[0.6666666666666666,\"#ed7953\"],[0.7777777777777778,\"#fb9f3a\"],[0.8888888888888888,\"#fdca26\"],[1.0,\"#f0f921\"]]}],\"choropleth\":[{\"type\":\"choropleth\",\"colorbar\":{\"outlinewidth\":0,\"ticks\":\"\"}}],\"histogram2d\":[{\"type\":\"histogram2d\",\"colorbar\":{\"outlinewidth\":0,\"ticks\":\"\"},\"colorscale\":[[0.0,\"#0d0887\"],[0.1111111111111111,\"#46039f\"],[0.2222222222222222,\"#7201a8\"],[0.3333333333333333,\"#9c179e\"],[0.4444444444444444,\"#bd3786\"],[0.5555555555555556,\"#d8576b\"],[0.6666666666666666,\"#ed7953\"],[0.7777777777777778,\"#fb9f3a\"],[0.8888888888888888,\"#fdca26\"],[1.0,\"#f0f921\"]]}],\"heatmap\":[{\"type\":\"heatmap\",\"colorbar\":{\"outlinewidth\":0,\"ticks\":\"\"},\"colorscale\":[[0.0,\"#0d0887\"],[0.1111111111111111,\"#46039f\"],[0.2222222222222222,\"#7201a8\"],[0.3333333333333333,\"#9c179e\"],[0.4444444444444444,\"#bd3786\"],[0.5555555555555556,\"#d8576b\"],[0.6666666666666666,\"#ed7953\"],[0.7777777777777778,\"#fb9f3a\"],[0.8888888888888888,\"#fdca26\"],[1.0,\"#f0f921\"]]}],\"heatmapgl\":[{\"type\":\"heatmapgl\",\"colorbar\":{\"outlinewidth\":0,\"ticks\":\"\"},\"colorscale\":[[0.0,\"#0d0887\"],[0.1111111111111111,\"#46039f\"],[0.2222222222222222,\"#7201a8\"],[0.3333333333333333,\"#9c179e\"],[0.4444444444444444,\"#bd3786\"],[0.5555555555555556,\"#d8576b\"],[0.6666666666666666,\"#ed7953\"],[0.7777777777777778,\"#fb9f3a\"],[0.8888888888888888,\"#fdca26\"],[1.0,\"#f0f921\"]]}],\"contourcarpet\":[{\"type\":\"contourcarpet\",\"colorbar\":{\"outlinewidth\":0,\"ticks\":\"\"}}],\"contour\":[{\"type\":\"contour\",\"colorbar\":{\"outlinewidth\":0,\"ticks\":\"\"},\"colorscale\":[[0.0,\"#0d0887\"],[0.1111111111111111,\"#46039f\"],[0.2222222222222222,\"#7201a8\"],[0.3333333333333333,\"#9c179e\"],[0.4444444444444444,\"#bd3786\"],[0.5555555555555556,\"#d8576b\"],[0.6666666666666666,\"#ed7953\"],[0.7777777777777778,\"#fb9f3a\"],[0.8888888888888888,\"#fdca26\"],[1.0,\"#f0f921\"]]}],\"surface\":[{\"type\":\"surface\",\"colorbar\":{\"outlinewidth\":0,\"ticks\":\"\"},\"colorscale\":[[0.0,\"#0d0887\"],[0.1111111111111111,\"#46039f\"],[0.2222222222222222,\"#7201a8\"],[0.3333333333333333,\"#9c179e\"],[0.4444444444444444,\"#bd3786\"],[0.5555555555555556,\"#d8576b\"],[0.6666666666666666,\"#ed7953\"],[0.7777777777777778,\"#fb9f3a\"],[0.8888888888888888,\"#fdca26\"],[1.0,\"#f0f921\"]]}],\"mesh3d\":[{\"type\":\"mesh3d\",\"colorbar\":{\"outlinewidth\":0,\"ticks\":\"\"}}],\"scatter\":[{\"fillpattern\":{\"fillmode\":\"overlay\",\"size\":10,\"solidity\":0.2},\"type\":\"scatter\"}],\"parcoords\":[{\"type\":\"parcoords\",\"line\":{\"colorbar\":{\"outlinewidth\":0,\"ticks\":\"\"}}}],\"scatterpolargl\":[{\"type\":\"scatterpolargl\",\"marker\":{\"colorbar\":{\"outlinewidth\":0,\"ticks\":\"\"}}}],\"bar\":[{\"error_x\":{\"color\":\"#2a3f5f\"},\"error_y\":{\"color\":\"#2a3f5f\"},\"marker\":{\"line\":{\"color\":\"#E5ECF6\",\"width\":0.5},\"pattern\":{\"fillmode\":\"overlay\",\"size\":10,\"solidity\":0.2}},\"type\":\"bar\"}],\"scattergeo\":[{\"type\":\"scattergeo\",\"marker\":{\"colorbar\":{\"outlinewidth\":0,\"ticks\":\"\"}}}],\"scatterpolar\":[{\"type\":\"scatterpolar\",\"marker\":{\"colorbar\":{\"outlinewidth\":0,\"ticks\":\"\"}}}],\"histogram\":[{\"marker\":{\"pattern\":{\"fillmode\":\"overlay\",\"size\":10,\"solidity\":0.2}},\"type\":\"histogram\"}],\"scattergl\":[{\"type\":\"scattergl\",\"marker\":{\"colorbar\":{\"outlinewidth\":0,\"ticks\":\"\"}}}],\"scatter3d\":[{\"type\":\"scatter3d\",\"line\":{\"colorbar\":{\"outlinewidth\":0,\"ticks\":\"\"}},\"marker\":{\"colorbar\":{\"outlinewidth\":0,\"ticks\":\"\"}}}],\"scattermapbox\":[{\"type\":\"scattermapbox\",\"marker\":{\"colorbar\":{\"outlinewidth\":0,\"ticks\":\"\"}}}],\"scatterternary\":[{\"type\":\"scatterternary\",\"marker\":{\"colorbar\":{\"outlinewidth\":0,\"ticks\":\"\"}}}],\"scattercarpet\":[{\"type\":\"scattercarpet\",\"marker\":{\"colorbar\":{\"outlinewidth\":0,\"ticks\":\"\"}}}],\"carpet\":[{\"aaxis\":{\"endlinecolor\":\"#2a3f5f\",\"gridcolor\":\"white\",\"linecolor\":\"white\",\"minorgridcolor\":\"white\",\"startlinecolor\":\"#2a3f5f\"},\"baxis\":{\"endlinecolor\":\"#2a3f5f\",\"gridcolor\":\"white\",\"linecolor\":\"white\",\"minorgridcolor\":\"white\",\"startlinecolor\":\"#2a3f5f\"},\"type\":\"carpet\"}],\"table\":[{\"cells\":{\"fill\":{\"color\":\"#EBF0F8\"},\"line\":{\"color\":\"white\"}},\"header\":{\"fill\":{\"color\":\"#C8D4E3\"},\"line\":{\"color\":\"white\"}},\"type\":\"table\"}],\"barpolar\":[{\"marker\":{\"line\":{\"color\":\"#E5ECF6\",\"width\":0.5},\"pattern\":{\"fillmode\":\"overlay\",\"size\":10,\"solidity\":0.2}},\"type\":\"barpolar\"}],\"pie\":[{\"automargin\":true,\"type\":\"pie\"}]},\"layout\":{\"autotypenumbers\":\"strict\",\"colorway\":[\"#636efa\",\"#EF553B\",\"#00cc96\",\"#ab63fa\",\"#FFA15A\",\"#19d3f3\",\"#FF6692\",\"#B6E880\",\"#FF97FF\",\"#FECB52\"],\"font\":{\"color\":\"#2a3f5f\"},\"hovermode\":\"closest\",\"hoverlabel\":{\"align\":\"left\"},\"paper_bgcolor\":\"white\",\"plot_bgcolor\":\"#E5ECF6\",\"polar\":{\"bgcolor\":\"#E5ECF6\",\"angularaxis\":{\"gridcolor\":\"white\",\"linecolor\":\"white\",\"ticks\":\"\"},\"radialaxis\":{\"gridcolor\":\"white\",\"linecolor\":\"white\",\"ticks\":\"\"}},\"ternary\":{\"bgcolor\":\"#E5ECF6\",\"aaxis\":{\"gridcolor\":\"white\",\"linecolor\":\"white\",\"ticks\":\"\"},\"baxis\":{\"gridcolor\":\"white\",\"linecolor\":\"white\",\"ticks\":\"\"},\"caxis\":{\"gridcolor\":\"white\",\"linecolor\":\"white\",\"ticks\":\"\"}},\"coloraxis\":{\"colorbar\":{\"outlinewidth\":0,\"ticks\":\"\"}},\"colorscale\":{\"sequential\":[[0.0,\"#0d0887\"],[0.1111111111111111,\"#46039f\"],[0.2222222222222222,\"#7201a8\"],[0.3333333333333333,\"#9c179e\"],[0.4444444444444444,\"#bd3786\"],[0.5555555555555556,\"#d8576b\"],[0.6666666666666666,\"#ed7953\"],[0.7777777777777778,\"#fb9f3a\"],[0.8888888888888888,\"#fdca26\"],[1.0,\"#f0f921\"]],\"sequentialminus\":[[0.0,\"#0d0887\"],[0.1111111111111111,\"#46039f\"],[0.2222222222222222,\"#7201a8\"],[0.3333333333333333,\"#9c179e\"],[0.4444444444444444,\"#bd3786\"],[0.5555555555555556,\"#d8576b\"],[0.6666666666666666,\"#ed7953\"],[0.7777777777777778,\"#fb9f3a\"],[0.8888888888888888,\"#fdca26\"],[1.0,\"#f0f921\"]],\"diverging\":[[0,\"#8e0152\"],[0.1,\"#c51b7d\"],[0.2,\"#de77ae\"],[0.3,\"#f1b6da\"],[0.4,\"#fde0ef\"],[0.5,\"#f7f7f7\"],[0.6,\"#e6f5d0\"],[0.7,\"#b8e186\"],[0.8,\"#7fbc41\"],[0.9,\"#4d9221\"],[1,\"#276419\"]]},\"xaxis\":{\"gridcolor\":\"white\",\"linecolor\":\"white\",\"ticks\":\"\",\"title\":{\"standoff\":15},\"zerolinecolor\":\"white\",\"automargin\":true,\"zerolinewidth\":2},\"yaxis\":{\"gridcolor\":\"white\",\"linecolor\":\"white\",\"ticks\":\"\",\"title\":{\"standoff\":15},\"zerolinecolor\":\"white\",\"automargin\":true,\"zerolinewidth\":2},\"scene\":{\"xaxis\":{\"backgroundcolor\":\"#E5ECF6\",\"gridcolor\":\"white\",\"linecolor\":\"white\",\"showbackground\":true,\"ticks\":\"\",\"zerolinecolor\":\"white\",\"gridwidth\":2},\"yaxis\":{\"backgroundcolor\":\"#E5ECF6\",\"gridcolor\":\"white\",\"linecolor\":\"white\",\"showbackground\":true,\"ticks\":\"\",\"zerolinecolor\":\"white\",\"gridwidth\":2},\"zaxis\":{\"backgroundcolor\":\"#E5ECF6\",\"gridcolor\":\"white\",\"linecolor\":\"white\",\"showbackground\":true,\"ticks\":\"\",\"zerolinecolor\":\"white\",\"gridwidth\":2}},\"shapedefaults\":{\"line\":{\"color\":\"#2a3f5f\"}},\"annotationdefaults\":{\"arrowcolor\":\"#2a3f5f\",\"arrowhead\":0,\"arrowwidth\":1},\"geo\":{\"bgcolor\":\"white\",\"landcolor\":\"#E5ECF6\",\"subunitcolor\":\"white\",\"showland\":true,\"showlakes\":true,\"lakecolor\":\"white\"},\"title\":{\"x\":0.05},\"mapbox\":{\"style\":\"light\"}}},\"xaxis\":{\"anchor\":\"y\",\"domain\":[0.0,1.0],\"title\":{\"text\":\"Year\"}},\"yaxis\":{\"anchor\":\"x\",\"domain\":[0.0,1.0],\"title\":{\"text\":\"Yield (kg\\u002fha)\"}},\"legend\":{\"title\":{\"text\":\"Country\"},\"tracegroupgap\":0},\"title\":{\"text\":\"Rice Yield Trends Over Time\"}},                        {\"responsive\": true}                    ).then(function(){\n",
       "                            \n",
       "var gd = document.getElementById('6ce6c89e-7d2d-4be2-a73a-29b69ace6f5c');\n",
       "var x = new MutationObserver(function (mutations, observer) {{\n",
       "        var display = window.getComputedStyle(gd).display;\n",
       "        if (!display || display === 'none') {{\n",
       "            console.log([gd, 'removed!']);\n",
       "            Plotly.purge(gd);\n",
       "            observer.disconnect();\n",
       "        }}\n",
       "}});\n",
       "\n",
       "// Listen for the removal of the full notebook cells\n",
       "var notebookContainer = gd.closest('#notebook-container');\n",
       "if (notebookContainer) {{\n",
       "    x.observe(notebookContainer, {childList: true});\n",
       "}}\n",
       "\n",
       "// Listen for the clearing of the current output cell\n",
       "var outputEl = gd.closest('.output');\n",
       "if (outputEl) {{\n",
       "    x.observe(outputEl, {childList: true});\n",
       "}}\n",
       "\n",
       "                        })                };                });            </script>        </div>"
      ]
     },
     "metadata": {},
     "output_type": "display_data"
    }
   ],
   "source": [
    "fig.show()"
   ]
  },
  {
   "cell_type": "markdown",
   "id": "cbf28c27-7fd4-40d3-b886-835cb4c198af",
   "metadata": {},
   "source": [
    "export data for the dash app"
   ]
  },
  {
   "cell_type": "code",
   "execution_count": 965,
   "id": "3dfc5a93-5389-4bd9-9fc7-7116c770bbf2",
   "metadata": {},
   "outputs": [],
   "source": [
    "def export_data():\n",
    "    unit_dict = {\"Yield (kg/ha)\": \"kg/ha\", \"Yield\": \"kg/ha\",\"Urban:Rural\": \"ratio\", \"total_population\": \"in thousands\", \n",
    "                 \"employed_in_ag\": \"in thousands\", \"percent_employed_in_ag\": \"percentage\", \"val_added_percent_GDP\": \"percentage of GDP\", \n",
    "                 \"val_added_mil_USD\": \"millions (USD)\", \"Area harvested (ha)\": \"ha\", \"Area harvested\": \"ha\",\"area_harvested_prop\": \"percentage\"}\n",
    "    return df, unit_dict"
   ]
  }
 ],
 "metadata": {
  "kernelspec": {
   "display_name": "Python [conda env:base] *",
   "language": "python",
   "name": "conda-base-py"
  },
  "language_info": {
   "codemirror_mode": {
    "name": "ipython",
    "version": 3
   },
   "file_extension": ".py",
   "mimetype": "text/x-python",
   "name": "python",
   "nbconvert_exporter": "python",
   "pygments_lexer": "ipython3",
   "version": "3.12.2"
  }
 },
 "nbformat": 4,
 "nbformat_minor": 5
}
